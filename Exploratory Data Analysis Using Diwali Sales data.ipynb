{
 "cells": [
  {
   "cell_type": "markdown",
   "id": "9c8e5eea",
   "metadata": {},
   "source": [
    "# IMPORTING LIBRARIES\n"
   ]
  },
  {
   "cell_type": "code",
   "execution_count": 84,
   "id": "623912aa",
   "metadata": {},
   "outputs": [],
   "source": [
    "import numpy as np #numpy is used for array operations \n",
    "import pandas as pd  #pandas is used for data frames operations\n",
    "import matplotlib.pyplot as plt \n",
    "'''\n",
    "both seaborn and matplotlib \n",
    "is used for data visualisation\n",
    "'''\n",
    "%matplotlib inline \n",
    "'''this just says that \n",
    "plotting has to be done \n",
    "immediately after the current cell'''\n",
    "import seaborn as sns \n",
    "#facing any errors install lib using(!pip install pandas(give libname)) \n"
   ]
  },
  {
   "cell_type": "markdown",
   "id": "f23e948f",
   "metadata": {},
   "source": [
    "# TAKE A LOOK AT CSV FILE"
   ]
  },
  {
   "cell_type": "code",
   "execution_count": 85,
   "id": "88909c01",
   "metadata": {},
   "outputs": [],
   "source": [
    "df=pd.read_csv('Diwali Sales Data.csv',encoding='unicode_escape')\n",
    "#Reading the csv fiels  using pandas which makes use of data frames[df]\n",
    "#df is a data frame which stores the csv file\n",
    "#to avoid encoding errors in excel files we give unicode_escape\n",
    "#if you have error in finding path take a look at the path of file and paste it \n",
    "#to avoid some symbol mistake in file name give r before"
   ]
  },
  {
   "cell_type": "code",
   "execution_count": 86,
   "id": "00653f66",
   "metadata": {},
   "outputs": [
    {
     "data": {
      "text/plain": [
       "(11251, 15)"
      ]
     },
     "execution_count": 86,
     "metadata": {},
     "output_type": "execute_result"
    }
   ],
   "source": [
    "df.shape\n",
    "#finding the shape(attribute of pandas) of csv file it has 11251 rows and 15 columns"
   ]
  },
  {
   "cell_type": "code",
   "execution_count": 87,
   "id": "03879c37",
   "metadata": {},
   "outputs": [
    {
     "data": {
      "text/html": [
       "<div>\n",
       "<style scoped>\n",
       "    .dataframe tbody tr th:only-of-type {\n",
       "        vertical-align: middle;\n",
       "    }\n",
       "\n",
       "    .dataframe tbody tr th {\n",
       "        vertical-align: top;\n",
       "    }\n",
       "\n",
       "    .dataframe thead th {\n",
       "        text-align: right;\n",
       "    }\n",
       "</style>\n",
       "<table border=\"1\" class=\"dataframe\">\n",
       "  <thead>\n",
       "    <tr style=\"text-align: right;\">\n",
       "      <th></th>\n",
       "      <th>User_ID</th>\n",
       "      <th>Cust_name</th>\n",
       "      <th>Product_ID</th>\n",
       "      <th>Gender</th>\n",
       "      <th>Age Group</th>\n",
       "      <th>Age</th>\n",
       "      <th>Marital_Status</th>\n",
       "      <th>State</th>\n",
       "      <th>Zone</th>\n",
       "      <th>Occupation</th>\n",
       "      <th>Product_Category</th>\n",
       "      <th>Orders</th>\n",
       "      <th>Amount</th>\n",
       "      <th>Status</th>\n",
       "      <th>unnamed1</th>\n",
       "    </tr>\n",
       "  </thead>\n",
       "  <tbody>\n",
       "    <tr>\n",
       "      <th>0</th>\n",
       "      <td>1002903</td>\n",
       "      <td>Sanskriti</td>\n",
       "      <td>P00125942</td>\n",
       "      <td>F</td>\n",
       "      <td>26-35</td>\n",
       "      <td>28</td>\n",
       "      <td>0</td>\n",
       "      <td>Maharashtra</td>\n",
       "      <td>Western</td>\n",
       "      <td>Healthcare</td>\n",
       "      <td>Auto</td>\n",
       "      <td>1</td>\n",
       "      <td>23952.0</td>\n",
       "      <td>NaN</td>\n",
       "      <td>NaN</td>\n",
       "    </tr>\n",
       "    <tr>\n",
       "      <th>1</th>\n",
       "      <td>1000732</td>\n",
       "      <td>Kartik</td>\n",
       "      <td>P00110942</td>\n",
       "      <td>F</td>\n",
       "      <td>26-35</td>\n",
       "      <td>35</td>\n",
       "      <td>1</td>\n",
       "      <td>Andhra Pradesh</td>\n",
       "      <td>Southern</td>\n",
       "      <td>Govt</td>\n",
       "      <td>Auto</td>\n",
       "      <td>3</td>\n",
       "      <td>23934.0</td>\n",
       "      <td>NaN</td>\n",
       "      <td>NaN</td>\n",
       "    </tr>\n",
       "    <tr>\n",
       "      <th>2</th>\n",
       "      <td>1001990</td>\n",
       "      <td>Bindu</td>\n",
       "      <td>P00118542</td>\n",
       "      <td>F</td>\n",
       "      <td>26-35</td>\n",
       "      <td>35</td>\n",
       "      <td>1</td>\n",
       "      <td>Uttar Pradesh</td>\n",
       "      <td>Central</td>\n",
       "      <td>Automobile</td>\n",
       "      <td>Auto</td>\n",
       "      <td>3</td>\n",
       "      <td>23924.0</td>\n",
       "      <td>NaN</td>\n",
       "      <td>NaN</td>\n",
       "    </tr>\n",
       "    <tr>\n",
       "      <th>3</th>\n",
       "      <td>1001425</td>\n",
       "      <td>Sudevi</td>\n",
       "      <td>P00237842</td>\n",
       "      <td>M</td>\n",
       "      <td>0-17</td>\n",
       "      <td>16</td>\n",
       "      <td>0</td>\n",
       "      <td>Karnataka</td>\n",
       "      <td>Southern</td>\n",
       "      <td>Construction</td>\n",
       "      <td>Auto</td>\n",
       "      <td>2</td>\n",
       "      <td>23912.0</td>\n",
       "      <td>NaN</td>\n",
       "      <td>NaN</td>\n",
       "    </tr>\n",
       "    <tr>\n",
       "      <th>4</th>\n",
       "      <td>1000588</td>\n",
       "      <td>Joni</td>\n",
       "      <td>P00057942</td>\n",
       "      <td>M</td>\n",
       "      <td>26-35</td>\n",
       "      <td>28</td>\n",
       "      <td>1</td>\n",
       "      <td>Gujarat</td>\n",
       "      <td>Western</td>\n",
       "      <td>Food Processing</td>\n",
       "      <td>Auto</td>\n",
       "      <td>2</td>\n",
       "      <td>23877.0</td>\n",
       "      <td>NaN</td>\n",
       "      <td>NaN</td>\n",
       "    </tr>\n",
       "  </tbody>\n",
       "</table>\n",
       "</div>"
      ],
      "text/plain": [
       "   User_ID  Cust_name Product_ID Gender Age Group  Age  Marital_Status  \\\n",
       "0  1002903  Sanskriti  P00125942      F     26-35   28               0   \n",
       "1  1000732     Kartik  P00110942      F     26-35   35               1   \n",
       "2  1001990      Bindu  P00118542      F     26-35   35               1   \n",
       "3  1001425     Sudevi  P00237842      M      0-17   16               0   \n",
       "4  1000588       Joni  P00057942      M     26-35   28               1   \n",
       "\n",
       "            State      Zone       Occupation Product_Category  Orders  \\\n",
       "0     Maharashtra   Western       Healthcare             Auto       1   \n",
       "1  Andhra Pradesh  Southern             Govt             Auto       3   \n",
       "2   Uttar Pradesh   Central       Automobile             Auto       3   \n",
       "3       Karnataka  Southern     Construction             Auto       2   \n",
       "4         Gujarat   Western  Food Processing             Auto       2   \n",
       "\n",
       "    Amount  Status  unnamed1  \n",
       "0  23952.0     NaN       NaN  \n",
       "1  23934.0     NaN       NaN  \n",
       "2  23924.0     NaN       NaN  \n",
       "3  23912.0     NaN       NaN  \n",
       "4  23877.0     NaN       NaN  "
      ]
     },
     "execution_count": 87,
     "metadata": {},
     "output_type": "execute_result"
    }
   ],
   "source": [
    "df.head()\n",
    "#inorder to get the first five rows of 15 columns  we give head function"
   ]
  },
  {
   "cell_type": "code",
   "execution_count": 88,
   "id": "7a77b4b0",
   "metadata": {},
   "outputs": [
    {
     "data": {
      "text/html": [
       "<div>\n",
       "<style scoped>\n",
       "    .dataframe tbody tr th:only-of-type {\n",
       "        vertical-align: middle;\n",
       "    }\n",
       "\n",
       "    .dataframe tbody tr th {\n",
       "        vertical-align: top;\n",
       "    }\n",
       "\n",
       "    .dataframe thead th {\n",
       "        text-align: right;\n",
       "    }\n",
       "</style>\n",
       "<table border=\"1\" class=\"dataframe\">\n",
       "  <thead>\n",
       "    <tr style=\"text-align: right;\">\n",
       "      <th></th>\n",
       "      <th>User_ID</th>\n",
       "      <th>Cust_name</th>\n",
       "      <th>Product_ID</th>\n",
       "      <th>Gender</th>\n",
       "      <th>Age Group</th>\n",
       "      <th>Age</th>\n",
       "      <th>Marital_Status</th>\n",
       "      <th>State</th>\n",
       "      <th>Zone</th>\n",
       "      <th>Occupation</th>\n",
       "      <th>Product_Category</th>\n",
       "      <th>Orders</th>\n",
       "      <th>Amount</th>\n",
       "      <th>Status</th>\n",
       "      <th>unnamed1</th>\n",
       "    </tr>\n",
       "  </thead>\n",
       "  <tbody>\n",
       "    <tr>\n",
       "      <th>0</th>\n",
       "      <td>1002903</td>\n",
       "      <td>Sanskriti</td>\n",
       "      <td>P00125942</td>\n",
       "      <td>F</td>\n",
       "      <td>26-35</td>\n",
       "      <td>28</td>\n",
       "      <td>0</td>\n",
       "      <td>Maharashtra</td>\n",
       "      <td>Western</td>\n",
       "      <td>Healthcare</td>\n",
       "      <td>Auto</td>\n",
       "      <td>1</td>\n",
       "      <td>23952.00</td>\n",
       "      <td>NaN</td>\n",
       "      <td>NaN</td>\n",
       "    </tr>\n",
       "    <tr>\n",
       "      <th>1</th>\n",
       "      <td>1000732</td>\n",
       "      <td>Kartik</td>\n",
       "      <td>P00110942</td>\n",
       "      <td>F</td>\n",
       "      <td>26-35</td>\n",
       "      <td>35</td>\n",
       "      <td>1</td>\n",
       "      <td>Andhra Pradesh</td>\n",
       "      <td>Southern</td>\n",
       "      <td>Govt</td>\n",
       "      <td>Auto</td>\n",
       "      <td>3</td>\n",
       "      <td>23934.00</td>\n",
       "      <td>NaN</td>\n",
       "      <td>NaN</td>\n",
       "    </tr>\n",
       "    <tr>\n",
       "      <th>2</th>\n",
       "      <td>1001990</td>\n",
       "      <td>Bindu</td>\n",
       "      <td>P00118542</td>\n",
       "      <td>F</td>\n",
       "      <td>26-35</td>\n",
       "      <td>35</td>\n",
       "      <td>1</td>\n",
       "      <td>Uttar Pradesh</td>\n",
       "      <td>Central</td>\n",
       "      <td>Automobile</td>\n",
       "      <td>Auto</td>\n",
       "      <td>3</td>\n",
       "      <td>23924.00</td>\n",
       "      <td>NaN</td>\n",
       "      <td>NaN</td>\n",
       "    </tr>\n",
       "    <tr>\n",
       "      <th>3</th>\n",
       "      <td>1001425</td>\n",
       "      <td>Sudevi</td>\n",
       "      <td>P00237842</td>\n",
       "      <td>M</td>\n",
       "      <td>0-17</td>\n",
       "      <td>16</td>\n",
       "      <td>0</td>\n",
       "      <td>Karnataka</td>\n",
       "      <td>Southern</td>\n",
       "      <td>Construction</td>\n",
       "      <td>Auto</td>\n",
       "      <td>2</td>\n",
       "      <td>23912.00</td>\n",
       "      <td>NaN</td>\n",
       "      <td>NaN</td>\n",
       "    </tr>\n",
       "    <tr>\n",
       "      <th>4</th>\n",
       "      <td>1000588</td>\n",
       "      <td>Joni</td>\n",
       "      <td>P00057942</td>\n",
       "      <td>M</td>\n",
       "      <td>26-35</td>\n",
       "      <td>28</td>\n",
       "      <td>1</td>\n",
       "      <td>Gujarat</td>\n",
       "      <td>Western</td>\n",
       "      <td>Food Processing</td>\n",
       "      <td>Auto</td>\n",
       "      <td>2</td>\n",
       "      <td>23877.00</td>\n",
       "      <td>NaN</td>\n",
       "      <td>NaN</td>\n",
       "    </tr>\n",
       "    <tr>\n",
       "      <th>5</th>\n",
       "      <td>1000588</td>\n",
       "      <td>Joni</td>\n",
       "      <td>P00057942</td>\n",
       "      <td>M</td>\n",
       "      <td>26-35</td>\n",
       "      <td>28</td>\n",
       "      <td>1</td>\n",
       "      <td>Himachal Pradesh</td>\n",
       "      <td>Northern</td>\n",
       "      <td>Food Processing</td>\n",
       "      <td>Auto</td>\n",
       "      <td>1</td>\n",
       "      <td>23877.00</td>\n",
       "      <td>NaN</td>\n",
       "      <td>NaN</td>\n",
       "    </tr>\n",
       "    <tr>\n",
       "      <th>6</th>\n",
       "      <td>1001132</td>\n",
       "      <td>Balk</td>\n",
       "      <td>P00018042</td>\n",
       "      <td>F</td>\n",
       "      <td>18-25</td>\n",
       "      <td>25</td>\n",
       "      <td>1</td>\n",
       "      <td>Uttar Pradesh</td>\n",
       "      <td>Central</td>\n",
       "      <td>Lawyer</td>\n",
       "      <td>Auto</td>\n",
       "      <td>4</td>\n",
       "      <td>23841.00</td>\n",
       "      <td>NaN</td>\n",
       "      <td>NaN</td>\n",
       "    </tr>\n",
       "    <tr>\n",
       "      <th>7</th>\n",
       "      <td>1002092</td>\n",
       "      <td>Shivangi</td>\n",
       "      <td>P00273442</td>\n",
       "      <td>F</td>\n",
       "      <td>55+</td>\n",
       "      <td>61</td>\n",
       "      <td>0</td>\n",
       "      <td>Maharashtra</td>\n",
       "      <td>Western</td>\n",
       "      <td>IT Sector</td>\n",
       "      <td>Auto</td>\n",
       "      <td>1</td>\n",
       "      <td>NaN</td>\n",
       "      <td>NaN</td>\n",
       "      <td>NaN</td>\n",
       "    </tr>\n",
       "    <tr>\n",
       "      <th>8</th>\n",
       "      <td>1003224</td>\n",
       "      <td>Kushal</td>\n",
       "      <td>P00205642</td>\n",
       "      <td>M</td>\n",
       "      <td>26-35</td>\n",
       "      <td>35</td>\n",
       "      <td>0</td>\n",
       "      <td>Uttar Pradesh</td>\n",
       "      <td>Central</td>\n",
       "      <td>Govt</td>\n",
       "      <td>Auto</td>\n",
       "      <td>2</td>\n",
       "      <td>23809.00</td>\n",
       "      <td>NaN</td>\n",
       "      <td>NaN</td>\n",
       "    </tr>\n",
       "    <tr>\n",
       "      <th>9</th>\n",
       "      <td>1003650</td>\n",
       "      <td>Ginny</td>\n",
       "      <td>P00031142</td>\n",
       "      <td>F</td>\n",
       "      <td>26-35</td>\n",
       "      <td>26</td>\n",
       "      <td>1</td>\n",
       "      <td>Andhra Pradesh</td>\n",
       "      <td>Southern</td>\n",
       "      <td>Media</td>\n",
       "      <td>Auto</td>\n",
       "      <td>4</td>\n",
       "      <td>23799.99</td>\n",
       "      <td>NaN</td>\n",
       "      <td>NaN</td>\n",
       "    </tr>\n",
       "    <tr>\n",
       "      <th>10</th>\n",
       "      <td>1003829</td>\n",
       "      <td>Harshita</td>\n",
       "      <td>P00200842</td>\n",
       "      <td>M</td>\n",
       "      <td>26-35</td>\n",
       "      <td>34</td>\n",
       "      <td>0</td>\n",
       "      <td>Delhi</td>\n",
       "      <td>Central</td>\n",
       "      <td>Banking</td>\n",
       "      <td>Auto</td>\n",
       "      <td>1</td>\n",
       "      <td>23770.00</td>\n",
       "      <td>NaN</td>\n",
       "      <td>NaN</td>\n",
       "    </tr>\n",
       "    <tr>\n",
       "      <th>11</th>\n",
       "      <td>1000214</td>\n",
       "      <td>Kargatis</td>\n",
       "      <td>P00119142</td>\n",
       "      <td>F</td>\n",
       "      <td>18-25</td>\n",
       "      <td>20</td>\n",
       "      <td>0</td>\n",
       "      <td>Andhra Pradesh</td>\n",
       "      <td>Southern</td>\n",
       "      <td>Retail</td>\n",
       "      <td>Auto</td>\n",
       "      <td>2</td>\n",
       "      <td>23752.00</td>\n",
       "      <td>NaN</td>\n",
       "      <td>NaN</td>\n",
       "    </tr>\n",
       "    <tr>\n",
       "      <th>12</th>\n",
       "      <td>1004035</td>\n",
       "      <td>Elijah</td>\n",
       "      <td>P00080342</td>\n",
       "      <td>F</td>\n",
       "      <td>18-25</td>\n",
       "      <td>20</td>\n",
       "      <td>1</td>\n",
       "      <td>Andhra Pradesh</td>\n",
       "      <td>Southern</td>\n",
       "      <td>IT Sector</td>\n",
       "      <td>Auto</td>\n",
       "      <td>2</td>\n",
       "      <td>23730.00</td>\n",
       "      <td>NaN</td>\n",
       "      <td>NaN</td>\n",
       "    </tr>\n",
       "  </tbody>\n",
       "</table>\n",
       "</div>"
      ],
      "text/plain": [
       "    User_ID  Cust_name Product_ID Gender Age Group  Age  Marital_Status  \\\n",
       "0   1002903  Sanskriti  P00125942      F     26-35   28               0   \n",
       "1   1000732     Kartik  P00110942      F     26-35   35               1   \n",
       "2   1001990      Bindu  P00118542      F     26-35   35               1   \n",
       "3   1001425     Sudevi  P00237842      M      0-17   16               0   \n",
       "4   1000588       Joni  P00057942      M     26-35   28               1   \n",
       "5   1000588       Joni  P00057942      M     26-35   28               1   \n",
       "6   1001132       Balk  P00018042      F     18-25   25               1   \n",
       "7   1002092   Shivangi  P00273442      F       55+   61               0   \n",
       "8   1003224     Kushal  P00205642      M     26-35   35               0   \n",
       "9   1003650      Ginny  P00031142      F     26-35   26               1   \n",
       "10  1003829   Harshita  P00200842      M     26-35   34               0   \n",
       "11  1000214   Kargatis  P00119142      F     18-25   20               0   \n",
       "12  1004035     Elijah  P00080342      F     18-25   20               1   \n",
       "\n",
       "               State      Zone       Occupation Product_Category  Orders  \\\n",
       "0        Maharashtra   Western       Healthcare             Auto       1   \n",
       "1     Andhra Pradesh  Southern             Govt             Auto       3   \n",
       "2      Uttar Pradesh   Central       Automobile             Auto       3   \n",
       "3          Karnataka  Southern     Construction             Auto       2   \n",
       "4            Gujarat   Western  Food Processing             Auto       2   \n",
       "5   Himachal Pradesh  Northern  Food Processing             Auto       1   \n",
       "6      Uttar Pradesh   Central           Lawyer             Auto       4   \n",
       "7        Maharashtra   Western        IT Sector             Auto       1   \n",
       "8      Uttar Pradesh   Central             Govt             Auto       2   \n",
       "9     Andhra Pradesh  Southern            Media             Auto       4   \n",
       "10             Delhi   Central          Banking             Auto       1   \n",
       "11    Andhra Pradesh  Southern           Retail             Auto       2   \n",
       "12    Andhra Pradesh  Southern        IT Sector             Auto       2   \n",
       "\n",
       "      Amount  Status  unnamed1  \n",
       "0   23952.00     NaN       NaN  \n",
       "1   23934.00     NaN       NaN  \n",
       "2   23924.00     NaN       NaN  \n",
       "3   23912.00     NaN       NaN  \n",
       "4   23877.00     NaN       NaN  \n",
       "5   23877.00     NaN       NaN  \n",
       "6   23841.00     NaN       NaN  \n",
       "7        NaN     NaN       NaN  \n",
       "8   23809.00     NaN       NaN  \n",
       "9   23799.99     NaN       NaN  \n",
       "10  23770.00     NaN       NaN  \n",
       "11  23752.00     NaN       NaN  \n",
       "12  23730.00     NaN       NaN  "
      ]
     },
     "execution_count": 88,
     "metadata": {},
     "output_type": "execute_result"
    }
   ],
   "source": [
    "#want to get more than 5 rows just mention inside head\n",
    "df.head(13)"
   ]
  },
  {
   "cell_type": "markdown",
   "id": "f3ac418b",
   "metadata": {},
   "source": [
    "# DATA CLEANING"
   ]
  },
  {
   "cell_type": "code",
   "execution_count": 89,
   "id": "2a16e3cb",
   "metadata": {},
   "outputs": [
    {
     "name": "stdout",
     "output_type": "stream",
     "text": [
      "<class 'pandas.core.frame.DataFrame'>\n",
      "RangeIndex: 11251 entries, 0 to 11250\n",
      "Data columns (total 15 columns):\n",
      " #   Column            Non-Null Count  Dtype  \n",
      "---  ------            --------------  -----  \n",
      " 0   User_ID           11251 non-null  int64  \n",
      " 1   Cust_name         11251 non-null  object \n",
      " 2   Product_ID        11251 non-null  object \n",
      " 3   Gender            11251 non-null  object \n",
      " 4   Age Group         11251 non-null  object \n",
      " 5   Age               11251 non-null  int64  \n",
      " 6   Marital_Status    11251 non-null  int64  \n",
      " 7   State             11251 non-null  object \n",
      " 8   Zone              11251 non-null  object \n",
      " 9   Occupation        11251 non-null  object \n",
      " 10  Product_Category  11251 non-null  object \n",
      " 11  Orders            11251 non-null  int64  \n",
      " 12  Amount            11239 non-null  float64\n",
      " 13  Status            0 non-null      float64\n",
      " 14  unnamed1          0 non-null      float64\n",
      "dtypes: float64(3), int64(4), object(8)\n",
      "memory usage: 1.3+ MB\n"
     ]
    },
    {
     "data": {
      "text/plain": [
       "'this function info of\\npandas gives all the data \\ntypes of columns in the dataset like the data type and count\\nand non nul values are given'"
      ]
     },
     "execution_count": 89,
     "metadata": {},
     "output_type": "execute_result"
    }
   ],
   "source": [
    "df.info()\n",
    "'''this function info of\n",
    "pandas gives all the data \n",
    "types of columns in the dataset like the data type and count\n",
    "and non nul values are given'''"
   ]
  },
  {
   "cell_type": "markdown",
   "id": "c224ede5",
   "metadata": {},
   "source": [
    "#by the above information we found out that the last two columns no entries so drop them"
   ]
  },
  {
   "cell_type": "code",
   "execution_count": 90,
   "id": "8801dbf4",
   "metadata": {},
   "outputs": [
    {
     "data": {
      "text/plain": [
       "'axis =1 means operate along column \\nif it is zero then it is along row '"
      ]
     },
     "execution_count": 90,
     "metadata": {},
     "output_type": "execute_result"
    }
   ],
   "source": [
    "#DROPPING THE COLUMNS \n",
    "df.drop(['Status','unnamed1'], axis=1, inplace= True)\n",
    "#inplace makes sure that the drop is getting implemented\n",
    "\n",
    "'''axis =1 means operate along column \n",
    "if it is zero then it is along row '''"
   ]
  },
  {
   "cell_type": "code",
   "execution_count": 91,
   "id": "f46ba64f",
   "metadata": {},
   "outputs": [
    {
     "data": {
      "text/plain": [
       "(11251, 13)"
      ]
     },
     "execution_count": 91,
     "metadata": {},
     "output_type": "execute_result"
    }
   ],
   "source": [
    "#checking whether the columns are dropped \n",
    "df.shape"
   ]
  },
  {
   "cell_type": "markdown",
   "id": "7e9ce572",
   "metadata": {},
   "source": [
    "So two columns getting dropped and reduced to 13"
   ]
  },
  {
   "cell_type": "code",
   "execution_count": 92,
   "id": "443844b7",
   "metadata": {},
   "outputs": [
    {
     "data": {
      "text/html": [
       "<div>\n",
       "<style scoped>\n",
       "    .dataframe tbody tr th:only-of-type {\n",
       "        vertical-align: middle;\n",
       "    }\n",
       "\n",
       "    .dataframe tbody tr th {\n",
       "        vertical-align: top;\n",
       "    }\n",
       "\n",
       "    .dataframe thead th {\n",
       "        text-align: right;\n",
       "    }\n",
       "</style>\n",
       "<table border=\"1\" class=\"dataframe\">\n",
       "  <thead>\n",
       "    <tr style=\"text-align: right;\">\n",
       "      <th></th>\n",
       "      <th>User_ID</th>\n",
       "      <th>Cust_name</th>\n",
       "      <th>Product_ID</th>\n",
       "      <th>Gender</th>\n",
       "      <th>Age Group</th>\n",
       "      <th>Age</th>\n",
       "      <th>Marital_Status</th>\n",
       "      <th>State</th>\n",
       "      <th>Zone</th>\n",
       "      <th>Occupation</th>\n",
       "      <th>Product_Category</th>\n",
       "      <th>Orders</th>\n",
       "      <th>Amount</th>\n",
       "    </tr>\n",
       "  </thead>\n",
       "  <tbody>\n",
       "    <tr>\n",
       "      <th>0</th>\n",
       "      <td>False</td>\n",
       "      <td>False</td>\n",
       "      <td>False</td>\n",
       "      <td>False</td>\n",
       "      <td>False</td>\n",
       "      <td>False</td>\n",
       "      <td>False</td>\n",
       "      <td>False</td>\n",
       "      <td>False</td>\n",
       "      <td>False</td>\n",
       "      <td>False</td>\n",
       "      <td>False</td>\n",
       "      <td>False</td>\n",
       "    </tr>\n",
       "    <tr>\n",
       "      <th>1</th>\n",
       "      <td>False</td>\n",
       "      <td>False</td>\n",
       "      <td>False</td>\n",
       "      <td>False</td>\n",
       "      <td>False</td>\n",
       "      <td>False</td>\n",
       "      <td>False</td>\n",
       "      <td>False</td>\n",
       "      <td>False</td>\n",
       "      <td>False</td>\n",
       "      <td>False</td>\n",
       "      <td>False</td>\n",
       "      <td>False</td>\n",
       "    </tr>\n",
       "    <tr>\n",
       "      <th>2</th>\n",
       "      <td>False</td>\n",
       "      <td>False</td>\n",
       "      <td>False</td>\n",
       "      <td>False</td>\n",
       "      <td>False</td>\n",
       "      <td>False</td>\n",
       "      <td>False</td>\n",
       "      <td>False</td>\n",
       "      <td>False</td>\n",
       "      <td>False</td>\n",
       "      <td>False</td>\n",
       "      <td>False</td>\n",
       "      <td>False</td>\n",
       "    </tr>\n",
       "    <tr>\n",
       "      <th>3</th>\n",
       "      <td>False</td>\n",
       "      <td>False</td>\n",
       "      <td>False</td>\n",
       "      <td>False</td>\n",
       "      <td>False</td>\n",
       "      <td>False</td>\n",
       "      <td>False</td>\n",
       "      <td>False</td>\n",
       "      <td>False</td>\n",
       "      <td>False</td>\n",
       "      <td>False</td>\n",
       "      <td>False</td>\n",
       "      <td>False</td>\n",
       "    </tr>\n",
       "    <tr>\n",
       "      <th>4</th>\n",
       "      <td>False</td>\n",
       "      <td>False</td>\n",
       "      <td>False</td>\n",
       "      <td>False</td>\n",
       "      <td>False</td>\n",
       "      <td>False</td>\n",
       "      <td>False</td>\n",
       "      <td>False</td>\n",
       "      <td>False</td>\n",
       "      <td>False</td>\n",
       "      <td>False</td>\n",
       "      <td>False</td>\n",
       "      <td>False</td>\n",
       "    </tr>\n",
       "    <tr>\n",
       "      <th>...</th>\n",
       "      <td>...</td>\n",
       "      <td>...</td>\n",
       "      <td>...</td>\n",
       "      <td>...</td>\n",
       "      <td>...</td>\n",
       "      <td>...</td>\n",
       "      <td>...</td>\n",
       "      <td>...</td>\n",
       "      <td>...</td>\n",
       "      <td>...</td>\n",
       "      <td>...</td>\n",
       "      <td>...</td>\n",
       "      <td>...</td>\n",
       "    </tr>\n",
       "    <tr>\n",
       "      <th>11246</th>\n",
       "      <td>False</td>\n",
       "      <td>False</td>\n",
       "      <td>False</td>\n",
       "      <td>False</td>\n",
       "      <td>False</td>\n",
       "      <td>False</td>\n",
       "      <td>False</td>\n",
       "      <td>False</td>\n",
       "      <td>False</td>\n",
       "      <td>False</td>\n",
       "      <td>False</td>\n",
       "      <td>False</td>\n",
       "      <td>False</td>\n",
       "    </tr>\n",
       "    <tr>\n",
       "      <th>11247</th>\n",
       "      <td>False</td>\n",
       "      <td>False</td>\n",
       "      <td>False</td>\n",
       "      <td>False</td>\n",
       "      <td>False</td>\n",
       "      <td>False</td>\n",
       "      <td>False</td>\n",
       "      <td>False</td>\n",
       "      <td>False</td>\n",
       "      <td>False</td>\n",
       "      <td>False</td>\n",
       "      <td>False</td>\n",
       "      <td>False</td>\n",
       "    </tr>\n",
       "    <tr>\n",
       "      <th>11248</th>\n",
       "      <td>False</td>\n",
       "      <td>False</td>\n",
       "      <td>False</td>\n",
       "      <td>False</td>\n",
       "      <td>False</td>\n",
       "      <td>False</td>\n",
       "      <td>False</td>\n",
       "      <td>False</td>\n",
       "      <td>False</td>\n",
       "      <td>False</td>\n",
       "      <td>False</td>\n",
       "      <td>False</td>\n",
       "      <td>False</td>\n",
       "    </tr>\n",
       "    <tr>\n",
       "      <th>11249</th>\n",
       "      <td>False</td>\n",
       "      <td>False</td>\n",
       "      <td>False</td>\n",
       "      <td>False</td>\n",
       "      <td>False</td>\n",
       "      <td>False</td>\n",
       "      <td>False</td>\n",
       "      <td>False</td>\n",
       "      <td>False</td>\n",
       "      <td>False</td>\n",
       "      <td>False</td>\n",
       "      <td>False</td>\n",
       "      <td>False</td>\n",
       "    </tr>\n",
       "    <tr>\n",
       "      <th>11250</th>\n",
       "      <td>False</td>\n",
       "      <td>False</td>\n",
       "      <td>False</td>\n",
       "      <td>False</td>\n",
       "      <td>False</td>\n",
       "      <td>False</td>\n",
       "      <td>False</td>\n",
       "      <td>False</td>\n",
       "      <td>False</td>\n",
       "      <td>False</td>\n",
       "      <td>False</td>\n",
       "      <td>False</td>\n",
       "      <td>False</td>\n",
       "    </tr>\n",
       "  </tbody>\n",
       "</table>\n",
       "<p>11251 rows × 13 columns</p>\n",
       "</div>"
      ],
      "text/plain": [
       "       User_ID  Cust_name  Product_ID  Gender  Age Group    Age  \\\n",
       "0        False      False       False   False      False  False   \n",
       "1        False      False       False   False      False  False   \n",
       "2        False      False       False   False      False  False   \n",
       "3        False      False       False   False      False  False   \n",
       "4        False      False       False   False      False  False   \n",
       "...        ...        ...         ...     ...        ...    ...   \n",
       "11246    False      False       False   False      False  False   \n",
       "11247    False      False       False   False      False  False   \n",
       "11248    False      False       False   False      False  False   \n",
       "11249    False      False       False   False      False  False   \n",
       "11250    False      False       False   False      False  False   \n",
       "\n",
       "       Marital_Status  State   Zone  Occupation  Product_Category  Orders  \\\n",
       "0               False  False  False       False             False   False   \n",
       "1               False  False  False       False             False   False   \n",
       "2               False  False  False       False             False   False   \n",
       "3               False  False  False       False             False   False   \n",
       "4               False  False  False       False             False   False   \n",
       "...               ...    ...    ...         ...               ...     ...   \n",
       "11246           False  False  False       False             False   False   \n",
       "11247           False  False  False       False             False   False   \n",
       "11248           False  False  False       False             False   False   \n",
       "11249           False  False  False       False             False   False   \n",
       "11250           False  False  False       False             False   False   \n",
       "\n",
       "       Amount  \n",
       "0       False  \n",
       "1       False  \n",
       "2       False  \n",
       "3       False  \n",
       "4       False  \n",
       "...       ...  \n",
       "11246   False  \n",
       "11247   False  \n",
       "11248   False  \n",
       "11249   False  \n",
       "11250   False  \n",
       "\n",
       "[11251 rows x 13 columns]"
      ]
     },
     "execution_count": 92,
     "metadata": {},
     "output_type": "execute_result"
    }
   ],
   "source": [
    "df.isnull()"
   ]
  },
  {
   "cell_type": "markdown",
   "id": "704a25ce",
   "metadata": {},
   "source": [
    "The above isnull function will summarise that whether null values are there it is giving false as it has some value if it is having true then it means that it has null values"
   ]
  },
  {
   "cell_type": "code",
   "execution_count": 93,
   "id": "3b1a6ccb",
   "metadata": {},
   "outputs": [
    {
     "data": {
      "text/plain": [
       "User_ID              0\n",
       "Cust_name            0\n",
       "Product_ID           0\n",
       "Gender               0\n",
       "Age Group            0\n",
       "Age                  0\n",
       "Marital_Status       0\n",
       "State                0\n",
       "Zone                 0\n",
       "Occupation           0\n",
       "Product_Category     0\n",
       "Orders               0\n",
       "Amount              12\n",
       "dtype: int64"
      ]
     },
     "execution_count": 93,
     "metadata": {},
     "output_type": "execute_result"
    }
   ],
   "source": [
    "df.isnull().sum()"
   ]
  },
  {
   "cell_type": "markdown",
   "id": "6476ffd0",
   "metadata": {},
   "source": [
    "isnull().sum() gives the total number of null values in each column so by the above output we found out that amount has 12 null values "
   ]
  },
  {
   "cell_type": "code",
   "execution_count": 94,
   "id": "f3c17e34",
   "metadata": {},
   "outputs": [],
   "source": [
    "df.dropna(inplace=True)#it will remove all null values in the data frame "
   ]
  },
  {
   "cell_type": "code",
   "execution_count": 95,
   "id": "bbab29cc",
   "metadata": {},
   "outputs": [
    {
     "data": {
      "text/plain": [
       "User_ID             0\n",
       "Cust_name           0\n",
       "Product_ID          0\n",
       "Gender              0\n",
       "Age Group           0\n",
       "Age                 0\n",
       "Marital_Status      0\n",
       "State               0\n",
       "Zone                0\n",
       "Occupation          0\n",
       "Product_Category    0\n",
       "Orders              0\n",
       "Amount              0\n",
       "dtype: int64"
      ]
     },
     "execution_count": 95,
     "metadata": {},
     "output_type": "execute_result"
    }
   ],
   "source": [
    "df.isnull().sum()"
   ]
  },
  {
   "cell_type": "markdown",
   "id": "df5b1e39",
   "metadata": {},
   "source": [
    "By using dropna() function we have removed al NaN values that is null values and found the sum of null values "
   ]
  },
  {
   "cell_type": "code",
   "execution_count": 96,
   "id": "90560476",
   "metadata": {},
   "outputs": [
    {
     "data": {
      "text/plain": [
       "(11239, 13)"
      ]
     },
     "execution_count": 96,
     "metadata": {},
     "output_type": "execute_result"
    }
   ],
   "source": [
    "df.shape"
   ]
  },
  {
   "cell_type": "markdown",
   "id": "640e0d54",
   "metadata": {},
   "source": [
    "As a result the number of rows are decreased by 12 rows"
   ]
  },
  {
   "cell_type": "code",
   "execution_count": 97,
   "id": "ca8cd14c",
   "metadata": {},
   "outputs": [
    {
     "name": "stdout",
     "output_type": "stream",
     "text": [
      "<class 'pandas.core.frame.DataFrame'>\n",
      "Int64Index: 11239 entries, 0 to 11250\n",
      "Data columns (total 13 columns):\n",
      " #   Column            Non-Null Count  Dtype  \n",
      "---  ------            --------------  -----  \n",
      " 0   User_ID           11239 non-null  int64  \n",
      " 1   Cust_name         11239 non-null  object \n",
      " 2   Product_ID        11239 non-null  object \n",
      " 3   Gender            11239 non-null  object \n",
      " 4   Age Group         11239 non-null  object \n",
      " 5   Age               11239 non-null  int64  \n",
      " 6   Marital_Status    11239 non-null  int64  \n",
      " 7   State             11239 non-null  object \n",
      " 8   Zone              11239 non-null  object \n",
      " 9   Occupation        11239 non-null  object \n",
      " 10  Product_Category  11239 non-null  object \n",
      " 11  Orders            11239 non-null  int64  \n",
      " 12  Amount            11239 non-null  float64\n",
      "dtypes: float64(1), int64(4), object(8)\n",
      "memory usage: 1.2+ MB\n"
     ]
    }
   ],
   "source": [
    "df.info()"
   ]
  },
  {
   "cell_type": "code",
   "execution_count": 98,
   "id": "c65db549",
   "metadata": {},
   "outputs": [],
   "source": [
    "#To change the float data type into int \n",
    "df['Amount']=df['Amount'].astype('int')\n"
   ]
  },
  {
   "cell_type": "code",
   "execution_count": 99,
   "id": "24b95877",
   "metadata": {},
   "outputs": [
    {
     "data": {
      "text/plain": [
       "dtype('int64')"
      ]
     },
     "execution_count": 99,
     "metadata": {},
     "output_type": "execute_result"
    }
   ],
   "source": [
    "#to check whether it has changed \n",
    "df['Amount'].dtypes"
   ]
  },
  {
   "cell_type": "markdown",
   "id": "213ba647",
   "metadata": {},
   "source": [
    "The datatype has changed to integer"
   ]
  },
  {
   "cell_type": "code",
   "execution_count": 100,
   "id": "0da0ced9",
   "metadata": {},
   "outputs": [
    {
     "data": {
      "text/plain": [
       "Index(['User_ID', 'Cust_name', 'Product_ID', 'Gender', 'Age Group', 'Age',\n",
       "       'Marital_Status', 'State', 'Zone', 'Occupation', 'Product_Category',\n",
       "       'Orders', 'Amount'],\n",
       "      dtype='object')"
      ]
     },
     "execution_count": 100,
     "metadata": {},
     "output_type": "execute_result"
    }
   ],
   "source": [
    "df.columns "
   ]
  },
  {
   "cell_type": "code",
   "execution_count": 101,
   "id": "954c7e99",
   "metadata": {},
   "outputs": [],
   "source": [
    "#suppose you want to rename the column\n",
    "df=df.rename(columns={\"User_ID\":\"ID\"})"
   ]
  },
  {
   "cell_type": "code",
   "execution_count": 102,
   "id": "f635145a",
   "metadata": {},
   "outputs": [
    {
     "data": {
      "text/html": [
       "<div>\n",
       "<style scoped>\n",
       "    .dataframe tbody tr th:only-of-type {\n",
       "        vertical-align: middle;\n",
       "    }\n",
       "\n",
       "    .dataframe tbody tr th {\n",
       "        vertical-align: top;\n",
       "    }\n",
       "\n",
       "    .dataframe thead th {\n",
       "        text-align: right;\n",
       "    }\n",
       "</style>\n",
       "<table border=\"1\" class=\"dataframe\">\n",
       "  <thead>\n",
       "    <tr style=\"text-align: right;\">\n",
       "      <th></th>\n",
       "      <th>ID</th>\n",
       "      <th>Cust_name</th>\n",
       "      <th>Product_ID</th>\n",
       "      <th>Gender</th>\n",
       "      <th>Age Group</th>\n",
       "      <th>Age</th>\n",
       "      <th>Marital_Status</th>\n",
       "      <th>State</th>\n",
       "      <th>Zone</th>\n",
       "      <th>Occupation</th>\n",
       "      <th>Product_Category</th>\n",
       "      <th>Orders</th>\n",
       "      <th>Amount</th>\n",
       "    </tr>\n",
       "  </thead>\n",
       "  <tbody>\n",
       "    <tr>\n",
       "      <th>0</th>\n",
       "      <td>1002903</td>\n",
       "      <td>Sanskriti</td>\n",
       "      <td>P00125942</td>\n",
       "      <td>F</td>\n",
       "      <td>26-35</td>\n",
       "      <td>28</td>\n",
       "      <td>0</td>\n",
       "      <td>Maharashtra</td>\n",
       "      <td>Western</td>\n",
       "      <td>Healthcare</td>\n",
       "      <td>Auto</td>\n",
       "      <td>1</td>\n",
       "      <td>23952</td>\n",
       "    </tr>\n",
       "    <tr>\n",
       "      <th>1</th>\n",
       "      <td>1000732</td>\n",
       "      <td>Kartik</td>\n",
       "      <td>P00110942</td>\n",
       "      <td>F</td>\n",
       "      <td>26-35</td>\n",
       "      <td>35</td>\n",
       "      <td>1</td>\n",
       "      <td>Andhra Pradesh</td>\n",
       "      <td>Southern</td>\n",
       "      <td>Govt</td>\n",
       "      <td>Auto</td>\n",
       "      <td>3</td>\n",
       "      <td>23934</td>\n",
       "    </tr>\n",
       "    <tr>\n",
       "      <th>2</th>\n",
       "      <td>1001990</td>\n",
       "      <td>Bindu</td>\n",
       "      <td>P00118542</td>\n",
       "      <td>F</td>\n",
       "      <td>26-35</td>\n",
       "      <td>35</td>\n",
       "      <td>1</td>\n",
       "      <td>Uttar Pradesh</td>\n",
       "      <td>Central</td>\n",
       "      <td>Automobile</td>\n",
       "      <td>Auto</td>\n",
       "      <td>3</td>\n",
       "      <td>23924</td>\n",
       "    </tr>\n",
       "    <tr>\n",
       "      <th>3</th>\n",
       "      <td>1001425</td>\n",
       "      <td>Sudevi</td>\n",
       "      <td>P00237842</td>\n",
       "      <td>M</td>\n",
       "      <td>0-17</td>\n",
       "      <td>16</td>\n",
       "      <td>0</td>\n",
       "      <td>Karnataka</td>\n",
       "      <td>Southern</td>\n",
       "      <td>Construction</td>\n",
       "      <td>Auto</td>\n",
       "      <td>2</td>\n",
       "      <td>23912</td>\n",
       "    </tr>\n",
       "    <tr>\n",
       "      <th>4</th>\n",
       "      <td>1000588</td>\n",
       "      <td>Joni</td>\n",
       "      <td>P00057942</td>\n",
       "      <td>M</td>\n",
       "      <td>26-35</td>\n",
       "      <td>28</td>\n",
       "      <td>1</td>\n",
       "      <td>Gujarat</td>\n",
       "      <td>Western</td>\n",
       "      <td>Food Processing</td>\n",
       "      <td>Auto</td>\n",
       "      <td>2</td>\n",
       "      <td>23877</td>\n",
       "    </tr>\n",
       "  </tbody>\n",
       "</table>\n",
       "</div>"
      ],
      "text/plain": [
       "        ID  Cust_name Product_ID Gender Age Group  Age  Marital_Status  \\\n",
       "0  1002903  Sanskriti  P00125942      F     26-35   28               0   \n",
       "1  1000732     Kartik  P00110942      F     26-35   35               1   \n",
       "2  1001990      Bindu  P00118542      F     26-35   35               1   \n",
       "3  1001425     Sudevi  P00237842      M      0-17   16               0   \n",
       "4  1000588       Joni  P00057942      M     26-35   28               1   \n",
       "\n",
       "            State      Zone       Occupation Product_Category  Orders  Amount  \n",
       "0     Maharashtra   Western       Healthcare             Auto       1   23952  \n",
       "1  Andhra Pradesh  Southern             Govt             Auto       3   23934  \n",
       "2   Uttar Pradesh   Central       Automobile             Auto       3   23924  \n",
       "3       Karnataka  Southern     Construction             Auto       2   23912  \n",
       "4         Gujarat   Western  Food Processing             Auto       2   23877  "
      ]
     },
     "execution_count": 102,
     "metadata": {},
     "output_type": "execute_result"
    }
   ],
   "source": [
    "df.head()"
   ]
  },
  {
   "cell_type": "markdown",
   "id": "5c397362",
   "metadata": {},
   "source": [
    "Userid column  is changed to id"
   ]
  },
  {
   "cell_type": "code",
   "execution_count": 103,
   "id": "45a35746",
   "metadata": {},
   "outputs": [
    {
     "data": {
      "text/html": [
       "<div>\n",
       "<style scoped>\n",
       "    .dataframe tbody tr th:only-of-type {\n",
       "        vertical-align: middle;\n",
       "    }\n",
       "\n",
       "    .dataframe tbody tr th {\n",
       "        vertical-align: top;\n",
       "    }\n",
       "\n",
       "    .dataframe thead th {\n",
       "        text-align: right;\n",
       "    }\n",
       "</style>\n",
       "<table border=\"1\" class=\"dataframe\">\n",
       "  <thead>\n",
       "    <tr style=\"text-align: right;\">\n",
       "      <th></th>\n",
       "      <th>ID</th>\n",
       "      <th>Age</th>\n",
       "      <th>Marital_Status</th>\n",
       "      <th>Orders</th>\n",
       "      <th>Amount</th>\n",
       "    </tr>\n",
       "  </thead>\n",
       "  <tbody>\n",
       "    <tr>\n",
       "      <th>count</th>\n",
       "      <td>1.123900e+04</td>\n",
       "      <td>11239.000000</td>\n",
       "      <td>11239.000000</td>\n",
       "      <td>11239.000000</td>\n",
       "      <td>11239.000000</td>\n",
       "    </tr>\n",
       "    <tr>\n",
       "      <th>mean</th>\n",
       "      <td>1.003004e+06</td>\n",
       "      <td>35.410357</td>\n",
       "      <td>0.420055</td>\n",
       "      <td>2.489634</td>\n",
       "      <td>9453.610553</td>\n",
       "    </tr>\n",
       "    <tr>\n",
       "      <th>std</th>\n",
       "      <td>1.716039e+03</td>\n",
       "      <td>12.753866</td>\n",
       "      <td>0.493589</td>\n",
       "      <td>1.114967</td>\n",
       "      <td>5222.355168</td>\n",
       "    </tr>\n",
       "    <tr>\n",
       "      <th>min</th>\n",
       "      <td>1.000001e+06</td>\n",
       "      <td>12.000000</td>\n",
       "      <td>0.000000</td>\n",
       "      <td>1.000000</td>\n",
       "      <td>188.000000</td>\n",
       "    </tr>\n",
       "    <tr>\n",
       "      <th>25%</th>\n",
       "      <td>1.001492e+06</td>\n",
       "      <td>27.000000</td>\n",
       "      <td>0.000000</td>\n",
       "      <td>2.000000</td>\n",
       "      <td>5443.000000</td>\n",
       "    </tr>\n",
       "    <tr>\n",
       "      <th>50%</th>\n",
       "      <td>1.003064e+06</td>\n",
       "      <td>33.000000</td>\n",
       "      <td>0.000000</td>\n",
       "      <td>2.000000</td>\n",
       "      <td>8109.000000</td>\n",
       "    </tr>\n",
       "    <tr>\n",
       "      <th>75%</th>\n",
       "      <td>1.004426e+06</td>\n",
       "      <td>43.000000</td>\n",
       "      <td>1.000000</td>\n",
       "      <td>3.000000</td>\n",
       "      <td>12675.000000</td>\n",
       "    </tr>\n",
       "    <tr>\n",
       "      <th>max</th>\n",
       "      <td>1.006040e+06</td>\n",
       "      <td>92.000000</td>\n",
       "      <td>1.000000</td>\n",
       "      <td>4.000000</td>\n",
       "      <td>23952.000000</td>\n",
       "    </tr>\n",
       "  </tbody>\n",
       "</table>\n",
       "</div>"
      ],
      "text/plain": [
       "                 ID           Age  Marital_Status        Orders        Amount\n",
       "count  1.123900e+04  11239.000000    11239.000000  11239.000000  11239.000000\n",
       "mean   1.003004e+06     35.410357        0.420055      2.489634   9453.610553\n",
       "std    1.716039e+03     12.753866        0.493589      1.114967   5222.355168\n",
       "min    1.000001e+06     12.000000        0.000000      1.000000    188.000000\n",
       "25%    1.001492e+06     27.000000        0.000000      2.000000   5443.000000\n",
       "50%    1.003064e+06     33.000000        0.000000      2.000000   8109.000000\n",
       "75%    1.004426e+06     43.000000        1.000000      3.000000  12675.000000\n",
       "max    1.006040e+06     92.000000        1.000000      4.000000  23952.000000"
      ]
     },
     "execution_count": 103,
     "metadata": {},
     "output_type": "execute_result"
    }
   ],
   "source": [
    "#to describe the dataset like give some sort of stats of the data like mean\n",
    "df.describe()"
   ]
  },
  {
   "cell_type": "code",
   "execution_count": 104,
   "id": "5ef780bf",
   "metadata": {},
   "outputs": [
    {
     "data": {
      "text/plain": [
       "count    1.123900e+04\n",
       "mean     1.003004e+06\n",
       "std      1.716039e+03\n",
       "min      1.000001e+06\n",
       "25%      1.001492e+06\n",
       "50%      1.003064e+06\n",
       "75%      1.004426e+06\n",
       "max      1.006040e+06\n",
       "Name: ID, dtype: float64"
      ]
     },
     "execution_count": 104,
     "metadata": {},
     "output_type": "execute_result"
    }
   ],
   "source": [
    "#to get the description of specific columns \n",
    "df['ID'].describe()\n"
   ]
  },
  {
   "cell_type": "code",
   "execution_count": 105,
   "id": "68012d15",
   "metadata": {},
   "outputs": [
    {
     "data": {
      "text/html": [
       "<div>\n",
       "<style scoped>\n",
       "    .dataframe tbody tr th:only-of-type {\n",
       "        vertical-align: middle;\n",
       "    }\n",
       "\n",
       "    .dataframe tbody tr th {\n",
       "        vertical-align: top;\n",
       "    }\n",
       "\n",
       "    .dataframe thead th {\n",
       "        text-align: right;\n",
       "    }\n",
       "</style>\n",
       "<table border=\"1\" class=\"dataframe\">\n",
       "  <thead>\n",
       "    <tr style=\"text-align: right;\">\n",
       "      <th></th>\n",
       "      <th>Age</th>\n",
       "      <th>Orders</th>\n",
       "      <th>Amount</th>\n",
       "    </tr>\n",
       "  </thead>\n",
       "  <tbody>\n",
       "    <tr>\n",
       "      <th>count</th>\n",
       "      <td>11239.000000</td>\n",
       "      <td>11239.000000</td>\n",
       "      <td>11239.000000</td>\n",
       "    </tr>\n",
       "    <tr>\n",
       "      <th>mean</th>\n",
       "      <td>35.410357</td>\n",
       "      <td>2.489634</td>\n",
       "      <td>9453.610553</td>\n",
       "    </tr>\n",
       "    <tr>\n",
       "      <th>std</th>\n",
       "      <td>12.753866</td>\n",
       "      <td>1.114967</td>\n",
       "      <td>5222.355168</td>\n",
       "    </tr>\n",
       "    <tr>\n",
       "      <th>min</th>\n",
       "      <td>12.000000</td>\n",
       "      <td>1.000000</td>\n",
       "      <td>188.000000</td>\n",
       "    </tr>\n",
       "    <tr>\n",
       "      <th>25%</th>\n",
       "      <td>27.000000</td>\n",
       "      <td>2.000000</td>\n",
       "      <td>5443.000000</td>\n",
       "    </tr>\n",
       "    <tr>\n",
       "      <th>50%</th>\n",
       "      <td>33.000000</td>\n",
       "      <td>2.000000</td>\n",
       "      <td>8109.000000</td>\n",
       "    </tr>\n",
       "    <tr>\n",
       "      <th>75%</th>\n",
       "      <td>43.000000</td>\n",
       "      <td>3.000000</td>\n",
       "      <td>12675.000000</td>\n",
       "    </tr>\n",
       "    <tr>\n",
       "      <th>max</th>\n",
       "      <td>92.000000</td>\n",
       "      <td>4.000000</td>\n",
       "      <td>23952.000000</td>\n",
       "    </tr>\n",
       "  </tbody>\n",
       "</table>\n",
       "</div>"
      ],
      "text/plain": [
       "                Age        Orders        Amount\n",
       "count  11239.000000  11239.000000  11239.000000\n",
       "mean      35.410357      2.489634   9453.610553\n",
       "std       12.753866      1.114967   5222.355168\n",
       "min       12.000000      1.000000    188.000000\n",
       "25%       27.000000      2.000000   5443.000000\n",
       "50%       33.000000      2.000000   8109.000000\n",
       "75%       43.000000      3.000000  12675.000000\n",
       "max       92.000000      4.000000  23952.000000"
      ]
     },
     "execution_count": 105,
     "metadata": {},
     "output_type": "execute_result"
    }
   ],
   "source": [
    "df[['Age','Orders','Amount']].describe()"
   ]
  },
  {
   "cell_type": "markdown",
   "id": "a2f8fa00",
   "metadata": {},
   "source": [
    "By the above description we can find the maximum ,minimum amount sold like that useful information can be got through this describe()information"
   ]
  },
  {
   "cell_type": "markdown",
   "id": "537cfe3a",
   "metadata": {},
   "source": [
    "# EXPLORATORY DATA ANALYSIS"
   ]
  },
  {
   "cell_type": "markdown",
   "id": "486aa3d9",
   "metadata": {},
   "source": [
    "# GENDER"
   ]
  },
  {
   "cell_type": "code",
   "execution_count": 106,
   "id": "784e0cd4",
   "metadata": {},
   "outputs": [
    {
     "name": "stderr",
     "output_type": "stream",
     "text": [
      "/Users/admin/opt/anaconda3/lib/python3.9/site-packages/seaborn/_decorators.py:36: FutureWarning: Pass the following variable as a keyword arg: x. From version 0.12, the only valid positional argument will be `data`, and passing other arguments without an explicit keyword will result in an error or misinterpretation.\n",
      "  warnings.warn(\n"
     ]
    },
    {
     "data": {
      "text/plain": [
       "<AxesSubplot:xlabel='Gender', ylabel='count'>"
      ]
     },
     "execution_count": 106,
     "metadata": {},
     "output_type": "execute_result"
    },
    {
     "data": {
      "image/png": "[encoded data removed]",
      "text/plain": [
       "<Figure size 432x288 with 1 Axes>"
      ]
     },
     "metadata": {
      "needs_background": "light"
     },
     "output_type": "display_data"
    }
   ],
   "source": [
    "#countplot of gender column which takes gender as its x axis by default \n",
    "sns.countplot('Gender',data=df)"
   ]
  },
  {
   "cell_type": "code",
   "execution_count": 107,
   "id": "f86f5026",
   "metadata": {},
   "outputs": [
    {
     "data": {
      "text/plain": [
       "<AxesSubplot:xlabel='count', ylabel='Gender'>"
      ]
     },
     "execution_count": 107,
     "metadata": {},
     "output_type": "execute_result"
    },
    {
     "data": {
      "image/png": "[encoded data removed]",
      "text/plain": [
       "<Figure size 432x288 with 1 Axes>"
      ]
     },
     "metadata": {
      "needs_background": "light"
     },
     "output_type": "display_data"
    }
   ],
   "source": [
    "#countplot of gender column which takes gender as its y axis  \n",
    "sns.countplot(y='Gender',data=df)"
   ]
  },
  {
   "cell_type": "code",
   "execution_count": 108,
   "id": "7bbccd6d",
   "metadata": {},
   "outputs": [
    {
     "name": "stderr",
     "output_type": "stream",
     "text": [
      "/Users/admin/opt/anaconda3/lib/python3.9/site-packages/seaborn/_decorators.py:36: FutureWarning: Pass the following variable as a keyword arg: x. From version 0.12, the only valid positional argument will be `data`, and passing other arguments without an explicit keyword will result in an error or misinterpretation.\n",
      "  warnings.warn(\n"
     ]
    },
    {
     "data": {
      "image/png": "[encoded data removed]",
      "text/plain": [
       "<Figure size 432x288 with 1 Axes>"
      ]
     },
     "metadata": {
      "needs_background": "light"
     },
     "output_type": "display_data"
    }
   ],
   "source": [
    "'''so if you want to get the number of female and male in gender use\n",
    "bar_label using for loop '''\n",
    "#countplot just gives you the count of that particular category\n",
    "#countplot is used to get the count for categorical value \n",
    "dx=sns.countplot('Gender',data=df)\n",
    "for bar in dx.containers:\n",
    "    dx.bar_label(bar)"
   ]
  },
  {
   "cell_type": "code",
   "execution_count": 139,
   "id": "0f0feccf",
   "metadata": {},
   "outputs": [],
   "source": [
    "sale_gen=df.groupby(['Gender'],as_index=False).sum().sort_values(by='Amount',ascending=False)"
   ]
  },
  {
   "cell_type": "markdown",
   "id": "6b7a42bc",
   "metadata": {},
   "source": [
    "In the above code we want to just findout whether which category of gender has spent their amount at maximum so we are grouping the gender by groupby() function and giving as_index as false to just say that the table must not have any changes and sort_values are used to categorise the gender by amount ascending is given as false to show the order from highest"
   ]
  },
  {
   "cell_type": "code",
   "execution_count": 141,
   "id": "ad737faa",
   "metadata": {},
   "outputs": [
    {
     "data": {
      "text/html": [
       "<div>\n",
       "<style scoped>\n",
       "    .dataframe tbody tr th:only-of-type {\n",
       "        vertical-align: middle;\n",
       "    }\n",
       "\n",
       "    .dataframe tbody tr th {\n",
       "        vertical-align: top;\n",
       "    }\n",
       "\n",
       "    .dataframe thead th {\n",
       "        text-align: right;\n",
       "    }\n",
       "</style>\n",
       "<table border=\"1\" class=\"dataframe\">\n",
       "  <thead>\n",
       "    <tr style=\"text-align: right;\">\n",
       "      <th></th>\n",
       "      <th>Gender</th>\n",
       "      <th>ID</th>\n",
       "      <th>Age</th>\n",
       "      <th>Marital_Status</th>\n",
       "      <th>Orders</th>\n",
       "      <th>Amount</th>\n",
       "    </tr>\n",
       "  </thead>\n",
       "  <tbody>\n",
       "    <tr>\n",
       "      <th>0</th>\n",
       "      <td>F</td>\n",
       "      <td>7855372419</td>\n",
       "      <td>276660</td>\n",
       "      <td>3259</td>\n",
       "      <td>19548</td>\n",
       "      <td>74335853</td>\n",
       "    </tr>\n",
       "    <tr>\n",
       "      <th>1</th>\n",
       "      <td>M</td>\n",
       "      <td>3417384162</td>\n",
       "      <td>121317</td>\n",
       "      <td>1462</td>\n",
       "      <td>8433</td>\n",
       "      <td>31913276</td>\n",
       "    </tr>\n",
       "  </tbody>\n",
       "</table>\n",
       "</div>"
      ],
      "text/plain": [
       "  Gender          ID     Age  Marital_Status  Orders    Amount\n",
       "0      F  7855372419  276660            3259   19548  74335853\n",
       "1      M  3417384162  121317            1462    8433  31913276"
      ]
     },
     "execution_count": 141,
     "metadata": {},
     "output_type": "execute_result"
    }
   ],
   "source": [
    "#so this is how the sale_gen is grouped by \n",
    "sale_gen"
   ]
  },
  {
   "cell_type": "code",
   "execution_count": 143,
   "id": "0ecef397",
   "metadata": {},
   "outputs": [
    {
     "data": {
      "text/plain": [
       "<AxesSubplot:xlabel='Gender', ylabel='Amount'>"
      ]
     },
     "execution_count": 143,
     "metadata": {},
     "output_type": "execute_result"
    },
    {
     "data": {
      "image/png": "[encoded data removed]",
      "text/plain": [
       "<Figure size 432x288 with 1 Axes>"
      ]
     },
     "metadata": {
      "needs_background": "light"
     },
     "output_type": "display_data"
    }
   ],
   "source": [
    "#barplot is used for categorical value to relate two categorical values\n",
    "sns.barplot(x='Gender',y='Amount',data=sale_gen)"
   ]
  },
  {
   "cell_type": "markdown",
   "id": "689f3726",
   "metadata": {},
   "source": [
    "So by the above graph it is found that the female have spent more amount compared to male "
   ]
  },
  {
   "cell_type": "markdown",
   "id": "06307eea",
   "metadata": {},
   "source": [
    "# AGE GROUP"
   ]
  },
  {
   "cell_type": "code",
   "execution_count": 118,
   "id": "09980271",
   "metadata": {},
   "outputs": [
    {
     "data": {
      "text/plain": [
       "<AxesSubplot:xlabel='Age Group', ylabel='count'>"
      ]
     },
     "execution_count": 118,
     "metadata": {},
     "output_type": "execute_result"
    },
    {
     "data": {
      "image/png": "[encoded data removed]",
      "text/plain": [
       "<Figure size 432x288 with 1 Axes>"
      ]
     },
     "metadata": {
      "needs_background": "light"
     },
     "output_type": "display_data"
    }
   ],
   "source": [
    "sns.countplot(x=\"Age Group\",hue=\"Gender\",data=df)"
   ]
  },
  {
   "cell_type": "code",
   "execution_count": 138,
   "id": "2b0cd8fe",
   "metadata": {},
   "outputs": [
    {
     "data": {
      "image/png": "[encoded data removed]",
      "text/plain": [
       "<Figure size 432x288 with 1 Axes>"
      ]
     },
     "metadata": {
      "needs_background": "light"
     },
     "output_type": "display_data"
    }
   ],
   "source": [
    "age_gen=sns.countplot(x=\"Age Group\",hue=\"Gender\",data=df)\n",
    "\n",
    "for bar in age_gen.containers:\n",
    "    age_gen.bar_label(bar)\n",
    "    \n"
   ]
  },
  {
   "cell_type": "code",
   "execution_count": 134,
   "id": "13fbc6aa",
   "metadata": {},
   "outputs": [],
   "source": [
    "age_sale=df.groupby('Age Group',as_index=False).sum().sort_values(by='Amount')"
   ]
  },
  {
   "cell_type": "code",
   "execution_count": 135,
   "id": "26d9c58c",
   "metadata": {},
   "outputs": [
    {
     "data": {
      "text/html": [
       "<div>\n",
       "<style scoped>\n",
       "    .dataframe tbody tr th:only-of-type {\n",
       "        vertical-align: middle;\n",
       "    }\n",
       "\n",
       "    .dataframe tbody tr th {\n",
       "        vertical-align: top;\n",
       "    }\n",
       "\n",
       "    .dataframe thead th {\n",
       "        text-align: right;\n",
       "    }\n",
       "</style>\n",
       "<table border=\"1\" class=\"dataframe\">\n",
       "  <thead>\n",
       "    <tr style=\"text-align: right;\">\n",
       "      <th></th>\n",
       "      <th>Age Group</th>\n",
       "      <th>ID</th>\n",
       "      <th>Age</th>\n",
       "      <th>Marital_Status</th>\n",
       "      <th>Orders</th>\n",
       "      <th>Amount</th>\n",
       "    </tr>\n",
       "  </thead>\n",
       "  <tbody>\n",
       "    <tr>\n",
       "      <th>0</th>\n",
       "      <td>0-17</td>\n",
       "      <td>296785084</td>\n",
       "      <td>4302</td>\n",
       "      <td>112</td>\n",
       "      <td>690</td>\n",
       "      <td>2699653</td>\n",
       "    </tr>\n",
       "    <tr>\n",
       "      <th>6</th>\n",
       "      <td>55+</td>\n",
       "      <td>428274914</td>\n",
       "      <td>31521</td>\n",
       "      <td>169</td>\n",
       "      <td>1076</td>\n",
       "      <td>4080987</td>\n",
       "    </tr>\n",
       "    <tr>\n",
       "      <th>5</th>\n",
       "      <td>51-55</td>\n",
       "      <td>832509683</td>\n",
       "      <td>43989</td>\n",
       "      <td>337</td>\n",
       "      <td>2112</td>\n",
       "      <td>8261477</td>\n",
       "    </tr>\n",
       "    <tr>\n",
       "      <th>4</th>\n",
       "      <td>46-50</td>\n",
       "      <td>985991648</td>\n",
       "      <td>47214</td>\n",
       "      <td>406</td>\n",
       "      <td>2371</td>\n",
       "      <td>9207844</td>\n",
       "    </tr>\n",
       "    <tr>\n",
       "      <th>1</th>\n",
       "      <td>18-25</td>\n",
       "      <td>1884305684</td>\n",
       "      <td>40385</td>\n",
       "      <td>801</td>\n",
       "      <td>4650</td>\n",
       "      <td>17240732</td>\n",
       "    </tr>\n",
       "    <tr>\n",
       "      <th>3</th>\n",
       "      <td>36-45</td>\n",
       "      <td>2289791627</td>\n",
       "      <td>92308</td>\n",
       "      <td>966</td>\n",
       "      <td>5687</td>\n",
       "      <td>22144994</td>\n",
       "    </tr>\n",
       "    <tr>\n",
       "      <th>2</th>\n",
       "      <td>26-35</td>\n",
       "      <td>4555097941</td>\n",
       "      <td>138258</td>\n",
       "      <td>1930</td>\n",
       "      <td>11395</td>\n",
       "      <td>42613442</td>\n",
       "    </tr>\n",
       "  </tbody>\n",
       "</table>\n",
       "</div>"
      ],
      "text/plain": [
       "  Age Group          ID     Age  Marital_Status  Orders    Amount\n",
       "0      0-17   296785084    4302             112     690   2699653\n",
       "6       55+   428274914   31521             169    1076   4080987\n",
       "5     51-55   832509683   43989             337    2112   8261477\n",
       "4     46-50   985991648   47214             406    2371   9207844\n",
       "1     18-25  1884305684   40385             801    4650  17240732\n",
       "3     36-45  2289791627   92308             966    5687  22144994\n",
       "2     26-35  4555097941  138258            1930   11395  42613442"
      ]
     },
     "execution_count": 135,
     "metadata": {},
     "output_type": "execute_result"
    }
   ],
   "source": [
    "age_sale"
   ]
  },
  {
   "cell_type": "code",
   "execution_count": 136,
   "id": "05f29b0a",
   "metadata": {},
   "outputs": [
    {
     "data": {
      "text/plain": [
       "<AxesSubplot:xlabel='Age Group', ylabel='Amount'>"
      ]
     },
     "execution_count": 136,
     "metadata": {},
     "output_type": "execute_result"
    },
    {
     "data": {
      "image/png": "[encoded data removed]",
      "text/plain": [
       "<Figure size 432x288 with 1 Axes>"
      ]
     },
     "metadata": {
      "needs_background": "light"
     },
     "output_type": "display_data"
    }
   ],
   "source": [
    "sns.barplot(x='Age Group',y='Amount',data=age_sale)"
   ]
  },
  {
   "cell_type": "markdown",
   "id": "250cf89e",
   "metadata": {},
   "source": [
    "By the above graph we found that age group of 26-35 spent more than other age groups"
   ]
  },
  {
   "cell_type": "markdown",
   "id": "3fcc83e8",
   "metadata": {},
   "source": [
    "# STATE"
   ]
  },
  {
   "cell_type": "code",
   "execution_count": 144,
   "id": "cdb70dc1",
   "metadata": {},
   "outputs": [],
   "source": [
    "state_sale=df.groupby('State',as_index=False).sum().sort_values(by='Amount',ascending=False)"
   ]
  },
  {
   "cell_type": "markdown",
   "id": "09e3a2a3",
   "metadata": {},
   "source": [
    "The above code groups the sum of state and sorted by the amount each state has spent "
   ]
  },
  {
   "cell_type": "code",
   "execution_count": 145,
   "id": "797020f8",
   "metadata": {},
   "outputs": [
    {
     "data": {
      "text/html": [
       "<div>\n",
       "<style scoped>\n",
       "    .dataframe tbody tr th:only-of-type {\n",
       "        vertical-align: middle;\n",
       "    }\n",
       "\n",
       "    .dataframe tbody tr th {\n",
       "        vertical-align: top;\n",
       "    }\n",
       "\n",
       "    .dataframe thead th {\n",
       "        text-align: right;\n",
       "    }\n",
       "</style>\n",
       "<table border=\"1\" class=\"dataframe\">\n",
       "  <thead>\n",
       "    <tr style=\"text-align: right;\">\n",
       "      <th></th>\n",
       "      <th>State</th>\n",
       "      <th>ID</th>\n",
       "      <th>Age</th>\n",
       "      <th>Marital_Status</th>\n",
       "      <th>Orders</th>\n",
       "      <th>Amount</th>\n",
       "    </tr>\n",
       "  </thead>\n",
       "  <tbody>\n",
       "    <tr>\n",
       "      <th>14</th>\n",
       "      <td>Uttar Pradesh</td>\n",
       "      <td>1949738716</td>\n",
       "      <td>69197</td>\n",
       "      <td>824</td>\n",
       "      <td>4807</td>\n",
       "      <td>19374968</td>\n",
       "    </tr>\n",
       "    <tr>\n",
       "      <th>10</th>\n",
       "      <td>Maharashtra</td>\n",
       "      <td>1529620730</td>\n",
       "      <td>52714</td>\n",
       "      <td>631</td>\n",
       "      <td>3810</td>\n",
       "      <td>14427543</td>\n",
       "    </tr>\n",
       "    <tr>\n",
       "      <th>7</th>\n",
       "      <td>Karnataka</td>\n",
       "      <td>1307886059</td>\n",
       "      <td>46006</td>\n",
       "      <td>562</td>\n",
       "      <td>3240</td>\n",
       "      <td>13523540</td>\n",
       "    </tr>\n",
       "    <tr>\n",
       "      <th>2</th>\n",
       "      <td>Delhi</td>\n",
       "      <td>1107443106</td>\n",
       "      <td>39245</td>\n",
       "      <td>471</td>\n",
       "      <td>2740</td>\n",
       "      <td>11603818</td>\n",
       "    </tr>\n",
       "    <tr>\n",
       "      <th>9</th>\n",
       "      <td>Madhya Pradesh</td>\n",
       "      <td>923841712</td>\n",
       "      <td>32991</td>\n",
       "      <td>397</td>\n",
       "      <td>2252</td>\n",
       "      <td>8101142</td>\n",
       "    </tr>\n",
       "    <tr>\n",
       "      <th>0</th>\n",
       "      <td>Andhra Pradesh</td>\n",
       "      <td>813444768</td>\n",
       "      <td>28862</td>\n",
       "      <td>340</td>\n",
       "      <td>2051</td>\n",
       "      <td>8037146</td>\n",
       "    </tr>\n",
       "    <tr>\n",
       "      <th>5</th>\n",
       "      <td>Himachal Pradesh</td>\n",
       "      <td>609750920</td>\n",
       "      <td>21618</td>\n",
       "      <td>256</td>\n",
       "      <td>1568</td>\n",
       "      <td>4963368</td>\n",
       "    </tr>\n",
       "    <tr>\n",
       "      <th>4</th>\n",
       "      <td>Haryana</td>\n",
       "      <td>453372900</td>\n",
       "      <td>15858</td>\n",
       "      <td>185</td>\n",
       "      <td>1109</td>\n",
       "      <td>4220175</td>\n",
       "    </tr>\n",
       "    <tr>\n",
       "      <th>1</th>\n",
       "      <td>Bihar</td>\n",
       "      <td>435279336</td>\n",
       "      <td>15419</td>\n",
       "      <td>189</td>\n",
       "      <td>1062</td>\n",
       "      <td>4022757</td>\n",
       "    </tr>\n",
       "    <tr>\n",
       "      <th>3</th>\n",
       "      <td>Gujarat</td>\n",
       "      <td>428278944</td>\n",
       "      <td>15473</td>\n",
       "      <td>159</td>\n",
       "      <td>1066</td>\n",
       "      <td>3946082</td>\n",
       "    </tr>\n",
       "    <tr>\n",
       "      <th>8</th>\n",
       "      <td>Kerala</td>\n",
       "      <td>454335141</td>\n",
       "      <td>15625</td>\n",
       "      <td>198</td>\n",
       "      <td>1137</td>\n",
       "      <td>3894491</td>\n",
       "    </tr>\n",
       "    <tr>\n",
       "      <th>6</th>\n",
       "      <td>Jharkhand</td>\n",
       "      <td>381174335</td>\n",
       "      <td>13564</td>\n",
       "      <td>159</td>\n",
       "      <td>953</td>\n",
       "      <td>3026456</td>\n",
       "    </tr>\n",
       "    <tr>\n",
       "      <th>15</th>\n",
       "      <td>Uttarakhand</td>\n",
       "      <td>320951452</td>\n",
       "      <td>11818</td>\n",
       "      <td>118</td>\n",
       "      <td>824</td>\n",
       "      <td>2520944</td>\n",
       "    </tr>\n",
       "    <tr>\n",
       "      <th>12</th>\n",
       "      <td>Rajasthan</td>\n",
       "      <td>231693815</td>\n",
       "      <td>7971</td>\n",
       "      <td>97</td>\n",
       "      <td>555</td>\n",
       "      <td>1909409</td>\n",
       "    </tr>\n",
       "    <tr>\n",
       "      <th>11</th>\n",
       "      <td>Punjab</td>\n",
       "      <td>200583317</td>\n",
       "      <td>6906</td>\n",
       "      <td>84</td>\n",
       "      <td>495</td>\n",
       "      <td>1525800</td>\n",
       "    </tr>\n",
       "    <tr>\n",
       "      <th>13</th>\n",
       "      <td>Telangana</td>\n",
       "      <td>125361330</td>\n",
       "      <td>4710</td>\n",
       "      <td>51</td>\n",
       "      <td>312</td>\n",
       "      <td>1151490</td>\n",
       "    </tr>\n",
       "  </tbody>\n",
       "</table>\n",
       "</div>"
      ],
      "text/plain": [
       "               State          ID    Age  Marital_Status  Orders    Amount\n",
       "14     Uttar Pradesh  1949738716  69197             824    4807  19374968\n",
       "10       Maharashtra  1529620730  52714             631    3810  14427543\n",
       "7          Karnataka  1307886059  46006             562    3240  13523540\n",
       "2              Delhi  1107443106  39245             471    2740  11603818\n",
       "9     Madhya Pradesh   923841712  32991             397    2252   8101142\n",
       "0     Andhra Pradesh   813444768  28862             340    2051   8037146\n",
       "5   Himachal Pradesh   609750920  21618             256    1568   4963368\n",
       "4            Haryana   453372900  15858             185    1109   4220175\n",
       "1              Bihar   435279336  15419             189    1062   4022757\n",
       "3            Gujarat   428278944  15473             159    1066   3946082\n",
       "8             Kerala   454335141  15625             198    1137   3894491\n",
       "6          Jharkhand   381174335  13564             159     953   3026456\n",
       "15       Uttarakhand   320951452  11818             118     824   2520944\n",
       "12         Rajasthan   231693815   7971              97     555   1909409\n",
       "11            Punjab   200583317   6906              84     495   1525800\n",
       "13         Telangana   125361330   4710              51     312   1151490"
      ]
     },
     "execution_count": 145,
     "metadata": {},
     "output_type": "execute_result"
    }
   ],
   "source": [
    "state_sale"
   ]
  },
  {
   "cell_type": "code",
   "execution_count": 162,
   "id": "2e6e4591",
   "metadata": {},
   "outputs": [
    {
     "data": {
      "image/png": "[encoded data removed]",
      "text/plain": [
       "<Figure size 1800x504 with 1 Axes>"
      ]
     },
     "metadata": {},
     "output_type": "display_data"
    }
   ],
   "source": [
    "plt.figure(figsize=(25,7))\n",
    "sns.barplot(x='State',y='Amount',data=state_sale)\n",
    "plt.show()"
   ]
  },
  {
   "cell_type": "markdown",
   "id": "0e8b1536",
   "metadata": {},
   "source": [
    "From the above graph we found out that uttarpradesh spents alot compared to other states"
   ]
  },
  {
   "cell_type": "markdown",
   "id": "aaf30303",
   "metadata": {},
   "source": [
    "# MARITAL STATUS"
   ]
  },
  {
   "cell_type": "code",
   "execution_count": 209,
   "id": "1165355e",
   "metadata": {},
   "outputs": [
    {
     "name": "stderr",
     "output_type": "stream",
     "text": [
      "/Users/admin/opt/anaconda3/lib/python3.9/site-packages/seaborn/_decorators.py:36: FutureWarning: Pass the following variable as a keyword arg: x. From version 0.12, the only valid positional argument will be `data`, and passing other arguments without an explicit keyword will result in an error or misinterpretation.\n",
      "  warnings.warn(\n"
     ]
    },
    {
     "data": {
      "text/plain": [
       "<AxesSubplot:xlabel='Marital_Status', ylabel='count'>"
      ]
     },
     "execution_count": 209,
     "metadata": {},
     "output_type": "execute_result"
    },
    {
     "data": {
      "image/png": "[encoded data removed]",
      "text/plain": [
       "<Figure size 504x504 with 1 Axes>"
      ]
     },
     "metadata": {},
     "output_type": "display_data"
    }
   ],
   "source": [
    "plt.figure(figsize=(7,7))\n",
    "sns.countplot('Marital_Status',data=df)"
   ]
  },
  {
   "cell_type": "code",
   "execution_count": 174,
   "id": "11bac5da",
   "metadata": {},
   "outputs": [],
   "source": [
    "mari_sale=df.groupby('Marital_Status',as_index=False).sum().sort_values(by='Amount',ascending=False)"
   ]
  },
  {
   "cell_type": "code",
   "execution_count": 175,
   "id": "f149045e",
   "metadata": {},
   "outputs": [
    {
     "data": {
      "text/html": [
       "<div>\n",
       "<style scoped>\n",
       "    .dataframe tbody tr th:only-of-type {\n",
       "        vertical-align: middle;\n",
       "    }\n",
       "\n",
       "    .dataframe tbody tr th {\n",
       "        vertical-align: top;\n",
       "    }\n",
       "\n",
       "    .dataframe thead th {\n",
       "        text-align: right;\n",
       "    }\n",
       "</style>\n",
       "<table border=\"1\" class=\"dataframe\">\n",
       "  <thead>\n",
       "    <tr style=\"text-align: right;\">\n",
       "      <th></th>\n",
       "      <th>Marital_Status</th>\n",
       "      <th>ID</th>\n",
       "      <th>Age</th>\n",
       "      <th>Orders</th>\n",
       "      <th>Amount</th>\n",
       "    </tr>\n",
       "  </thead>\n",
       "  <tbody>\n",
       "    <tr>\n",
       "      <th>0</th>\n",
       "      <td>0</td>\n",
       "      <td>6537535591</td>\n",
       "      <td>231678</td>\n",
       "      <td>16249</td>\n",
       "      <td>62125384</td>\n",
       "    </tr>\n",
       "    <tr>\n",
       "      <th>1</th>\n",
       "      <td>1</td>\n",
       "      <td>4735220990</td>\n",
       "      <td>166299</td>\n",
       "      <td>11732</td>\n",
       "      <td>44123745</td>\n",
       "    </tr>\n",
       "  </tbody>\n",
       "</table>\n",
       "</div>"
      ],
      "text/plain": [
       "   Marital_Status          ID     Age  Orders    Amount\n",
       "0               0  6537535591  231678   16249  62125384\n",
       "1               1  4735220990  166299   11732  44123745"
      ]
     },
     "execution_count": 175,
     "metadata": {},
     "output_type": "execute_result"
    }
   ],
   "source": [
    "mari_sale"
   ]
  },
  {
   "cell_type": "code",
   "execution_count": 178,
   "id": "7ede77b9",
   "metadata": {},
   "outputs": [
    {
     "data": {
      "image/png": "[encoded data removed]",
      "text/plain": [
       "<Figure size 360x144 with 1 Axes>"
      ]
     },
     "metadata": {},
     "output_type": "display_data"
    }
   ],
   "source": [
    "plt.figure(figsize=(5,2))\n",
    "mari_s=sns.barplot(x='Marital_Status',y='Amount',data=mari_sale)\n",
    "for bar in mari_s.containers:\n",
    "    mari_s.bar_label(bar)\n",
    "    "
   ]
  },
  {
   "cell_type": "code",
   "execution_count": 183,
   "id": "c32781be",
   "metadata": {},
   "outputs": [],
   "source": [
    "mari_gen=df.groupby(['Marital_Status', 'Gender'], as_index=False)['Amount'].sum().sort_values(by='Amount', ascending=False)\n"
   ]
  },
  {
   "cell_type": "code",
   "execution_count": 192,
   "id": "2c07bfd6",
   "metadata": {},
   "outputs": [
    {
     "data": {
      "image/png": "[encoded data removed]",
      "text/plain": [
       "<Figure size 864x432 with 1 Axes>"
      ]
     },
     "metadata": {},
     "output_type": "display_data"
    }
   ],
   "source": [
    "plt.figure(figsize=(12,6))\n",
    "sns.barplot(x='Marital_Status',y='Amount',hue='Gender',data=mari_gen)\n",
    "plt.show()"
   ]
  },
  {
   "cell_type": "markdown",
   "id": "b0612975",
   "metadata": {},
   "source": [
    "From the above graph most of the buyers are married female."
   ]
  },
  {
   "cell_type": "markdown",
   "id": "f29eb18c",
   "metadata": {},
   "source": [
    "# OCCUPATION"
   ]
  },
  {
   "cell_type": "code",
   "execution_count": 201,
   "id": "1106c0f9",
   "metadata": {},
   "outputs": [
    {
     "data": {
      "image/png": "[encoded data removed]",
      "text/plain": [
       "<Figure size 1800x504 with 1 Axes>"
      ]
     },
     "metadata": {},
     "output_type": "display_data"
    }
   ],
   "source": [
    "os=sns.countplot(x='Occupation',data=df)\n",
    "for bar in os.containers:\n",
    "    os.bar_label(bar)"
   ]
  },
  {
   "cell_type": "code",
   "execution_count": 194,
   "id": "5d0eb92e",
   "metadata": {},
   "outputs": [],
   "source": [
    "occ_sale=df.groupby('Occupation',as_index=False).sum().sort_values(by='Amount',ascending=False)"
   ]
  },
  {
   "cell_type": "code",
   "execution_count": 196,
   "id": "6fe15a1d",
   "metadata": {},
   "outputs": [
    {
     "data": {
      "text/html": [
       "<div>\n",
       "<style scoped>\n",
       "    .dataframe tbody tr th:only-of-type {\n",
       "        vertical-align: middle;\n",
       "    }\n",
       "\n",
       "    .dataframe tbody tr th {\n",
       "        vertical-align: top;\n",
       "    }\n",
       "\n",
       "    .dataframe thead th {\n",
       "        text-align: right;\n",
       "    }\n",
       "</style>\n",
       "<table border=\"1\" class=\"dataframe\">\n",
       "  <thead>\n",
       "    <tr style=\"text-align: right;\">\n",
       "      <th></th>\n",
       "      <th>Occupation</th>\n",
       "      <th>ID</th>\n",
       "      <th>Age</th>\n",
       "      <th>Marital_Status</th>\n",
       "      <th>Orders</th>\n",
       "      <th>Amount</th>\n",
       "    </tr>\n",
       "  </thead>\n",
       "  <tbody>\n",
       "    <tr>\n",
       "      <th>10</th>\n",
       "      <td>IT Sector</td>\n",
       "      <td>1587664067</td>\n",
       "      <td>56431</td>\n",
       "      <td>717</td>\n",
       "      <td>3997</td>\n",
       "      <td>14755079</td>\n",
       "    </tr>\n",
       "    <tr>\n",
       "      <th>8</th>\n",
       "      <td>Healthcare</td>\n",
       "      <td>1412271398</td>\n",
       "      <td>49532</td>\n",
       "      <td>394</td>\n",
       "      <td>3455</td>\n",
       "      <td>13034586</td>\n",
       "    </tr>\n",
       "    <tr>\n",
       "      <th>2</th>\n",
       "      <td>Aviation</td>\n",
       "      <td>1314031580</td>\n",
       "      <td>46009</td>\n",
       "      <td>583</td>\n",
       "      <td>3215</td>\n",
       "      <td>12602298</td>\n",
       "    </tr>\n",
       "    <tr>\n",
       "      <th>3</th>\n",
       "      <td>Banking</td>\n",
       "      <td>1140368011</td>\n",
       "      <td>40348</td>\n",
       "      <td>567</td>\n",
       "      <td>2817</td>\n",
       "      <td>10770610</td>\n",
       "    </tr>\n",
       "    <tr>\n",
       "      <th>7</th>\n",
       "      <td>Govt</td>\n",
       "      <td>856551738</td>\n",
       "      <td>30194</td>\n",
       "      <td>366</td>\n",
       "      <td>2155</td>\n",
       "      <td>8517212</td>\n",
       "    </tr>\n",
       "    <tr>\n",
       "      <th>9</th>\n",
       "      <td>Hospitality</td>\n",
       "      <td>705155847</td>\n",
       "      <td>25075</td>\n",
       "      <td>344</td>\n",
       "      <td>1739</td>\n",
       "      <td>6376405</td>\n",
       "    </tr>\n",
       "    <tr>\n",
       "      <th>12</th>\n",
       "      <td>Media</td>\n",
       "      <td>638867854</td>\n",
       "      <td>22753</td>\n",
       "      <td>292</td>\n",
       "      <td>1596</td>\n",
       "      <td>6295832</td>\n",
       "    </tr>\n",
       "    <tr>\n",
       "      <th>1</th>\n",
       "      <td>Automobile</td>\n",
       "      <td>566671970</td>\n",
       "      <td>20097</td>\n",
       "      <td>256</td>\n",
       "      <td>1371</td>\n",
       "      <td>5368596</td>\n",
       "    </tr>\n",
       "    <tr>\n",
       "      <th>4</th>\n",
       "      <td>Chemical</td>\n",
       "      <td>542623529</td>\n",
       "      <td>19095</td>\n",
       "      <td>240</td>\n",
       "      <td>1309</td>\n",
       "      <td>5297436</td>\n",
       "    </tr>\n",
       "    <tr>\n",
       "      <th>11</th>\n",
       "      <td>Lawyer</td>\n",
       "      <td>532583013</td>\n",
       "      <td>18718</td>\n",
       "      <td>259</td>\n",
       "      <td>1344</td>\n",
       "      <td>4981665</td>\n",
       "    </tr>\n",
       "    <tr>\n",
       "      <th>13</th>\n",
       "      <td>Retail</td>\n",
       "      <td>502534786</td>\n",
       "      <td>17656</td>\n",
       "      <td>120</td>\n",
       "      <td>1270</td>\n",
       "      <td>4783170</td>\n",
       "    </tr>\n",
       "    <tr>\n",
       "      <th>6</th>\n",
       "      <td>Food Processing</td>\n",
       "      <td>424294920</td>\n",
       "      <td>15292</td>\n",
       "      <td>194</td>\n",
       "      <td>1073</td>\n",
       "      <td>4070670</td>\n",
       "    </tr>\n",
       "    <tr>\n",
       "      <th>5</th>\n",
       "      <td>Construction</td>\n",
       "      <td>415224873</td>\n",
       "      <td>14459</td>\n",
       "      <td>124</td>\n",
       "      <td>1025</td>\n",
       "      <td>3597511</td>\n",
       "    </tr>\n",
       "    <tr>\n",
       "      <th>14</th>\n",
       "      <td>Textile</td>\n",
       "      <td>350087353</td>\n",
       "      <td>12394</td>\n",
       "      <td>134</td>\n",
       "      <td>893</td>\n",
       "      <td>3204972</td>\n",
       "    </tr>\n",
       "    <tr>\n",
       "      <th>0</th>\n",
       "      <td>Agriculture</td>\n",
       "      <td>283825642</td>\n",
       "      <td>9924</td>\n",
       "      <td>131</td>\n",
       "      <td>722</td>\n",
       "      <td>2593087</td>\n",
       "    </tr>\n",
       "  </tbody>\n",
       "</table>\n",
       "</div>"
      ],
      "text/plain": [
       "         Occupation          ID    Age  Marital_Status  Orders    Amount\n",
       "10        IT Sector  1587664067  56431             717    3997  14755079\n",
       "8        Healthcare  1412271398  49532             394    3455  13034586\n",
       "2          Aviation  1314031580  46009             583    3215  12602298\n",
       "3           Banking  1140368011  40348             567    2817  10770610\n",
       "7              Govt   856551738  30194             366    2155   8517212\n",
       "9       Hospitality   705155847  25075             344    1739   6376405\n",
       "12            Media   638867854  22753             292    1596   6295832\n",
       "1        Automobile   566671970  20097             256    1371   5368596\n",
       "4          Chemical   542623529  19095             240    1309   5297436\n",
       "11           Lawyer   532583013  18718             259    1344   4981665\n",
       "13           Retail   502534786  17656             120    1270   4783170\n",
       "6   Food Processing   424294920  15292             194    1073   4070670\n",
       "5      Construction   415224873  14459             124    1025   3597511\n",
       "14          Textile   350087353  12394             134     893   3204972\n",
       "0       Agriculture   283825642   9924             131     722   2593087"
      ]
     },
     "execution_count": 196,
     "metadata": {},
     "output_type": "execute_result"
    }
   ],
   "source": [
    "occ_sale"
   ]
  },
  {
   "cell_type": "code",
   "execution_count": 204,
   "id": "8853845f",
   "metadata": {},
   "outputs": [
    {
     "data": {
      "text/plain": [
       "<AxesSubplot:xlabel='Occupation', ylabel='Amount'>"
      ]
     },
     "execution_count": 204,
     "metadata": {},
     "output_type": "execute_result"
    },
    {
     "data": {
      "image/png": "[encoded data removed]",
      "text/plain": [
       "<Figure size 1800x504 with 1 Axes>"
      ]
     },
     "metadata": {},
     "output_type": "display_data"
    }
   ],
   "source": [
    "sns.barplot(x='Occupation',y='Amount',data=occ_sale)\n",
    "\n"
   ]
  },
  {
   "cell_type": "markdown",
   "id": "3f9a7284",
   "metadata": {},
   "source": [
    "From the above graph it is clear that IT sector ,Healthcare and Aviation are top 3 in buyers list"
   ]
  },
  {
   "cell_type": "markdown",
   "id": "c402c53a",
   "metadata": {},
   "source": [
    "# PRODUCT CATEGORY"
   ]
  },
  {
   "cell_type": "code",
   "execution_count": 210,
   "id": "595e1fe8",
   "metadata": {},
   "outputs": [
    {
     "data": {
      "text/plain": [
       "Index(['ID', 'Cust_name', 'Product_ID', 'Gender', 'Age Group', 'Age',\n",
       "       'Marital_Status', 'State', 'Zone', 'Occupation', 'Product_Category',\n",
       "       'Orders', 'Amount'],\n",
       "      dtype='object')"
      ]
     },
     "execution_count": 210,
     "metadata": {},
     "output_type": "execute_result"
    }
   ],
   "source": [
    "df.columns"
   ]
  },
  {
   "cell_type": "code",
   "execution_count": 212,
   "id": "cb32c5ff",
   "metadata": {},
   "outputs": [
    {
     "name": "stderr",
     "output_type": "stream",
     "text": [
      "/Users/admin/opt/anaconda3/lib/python3.9/site-packages/seaborn/_decorators.py:36: FutureWarning: Pass the following variable as a keyword arg: x. From version 0.12, the only valid positional argument will be `data`, and passing other arguments without an explicit keyword will result in an error or misinterpretation.\n",
      "  warnings.warn(\n"
     ]
    },
    {
     "data": {
      "image/png": "[encoded data removed]",
      "text/plain": [
       "<Figure size 1800x504 with 1 Axes>"
      ]
     },
     "metadata": {},
     "output_type": "display_data"
    }
   ],
   "source": [
    "pc=sns.countplot('Product_Category',data=df)\n",
    "for bar in pc.containers:\n",
    "    pc.bar_label(bar)"
   ]
  },
  {
   "cell_type": "code",
   "execution_count": 213,
   "id": "4e963eca",
   "metadata": {},
   "outputs": [],
   "source": [
    "procat_sale=df.groupby('Product_Category',as_index=False).sum().sort_values(by='Amount',ascending=False)"
   ]
  },
  {
   "cell_type": "code",
   "execution_count": 214,
   "id": "3c007811",
   "metadata": {},
   "outputs": [
    {
     "data": {
      "text/html": [
       "<div>\n",
       "<style scoped>\n",
       "    .dataframe tbody tr th:only-of-type {\n",
       "        vertical-align: middle;\n",
       "    }\n",
       "\n",
       "    .dataframe tbody tr th {\n",
       "        vertical-align: top;\n",
       "    }\n",
       "\n",
       "    .dataframe thead th {\n",
       "        text-align: right;\n",
       "    }\n",
       "</style>\n",
       "<table border=\"1\" class=\"dataframe\">\n",
       "  <thead>\n",
       "    <tr style=\"text-align: right;\">\n",
       "      <th></th>\n",
       "      <th>Product_Category</th>\n",
       "      <th>ID</th>\n",
       "      <th>Age</th>\n",
       "      <th>Marital_Status</th>\n",
       "      <th>Orders</th>\n",
       "      <th>Amount</th>\n",
       "    </tr>\n",
       "  </thead>\n",
       "  <tbody>\n",
       "    <tr>\n",
       "      <th>6</th>\n",
       "      <td>Food</td>\n",
       "      <td>2497508691</td>\n",
       "      <td>86653</td>\n",
       "      <td>990</td>\n",
       "      <td>6110</td>\n",
       "      <td>33933883</td>\n",
       "    </tr>\n",
       "    <tr>\n",
       "      <th>3</th>\n",
       "      <td>Clothing &amp; Apparel</td>\n",
       "      <td>2663028862</td>\n",
       "      <td>93745</td>\n",
       "      <td>1120</td>\n",
       "      <td>6634</td>\n",
       "      <td>16495019</td>\n",
       "    </tr>\n",
       "    <tr>\n",
       "      <th>5</th>\n",
       "      <td>Electronics &amp; Gadgets</td>\n",
       "      <td>2093279814</td>\n",
       "      <td>74048</td>\n",
       "      <td>913</td>\n",
       "      <td>5226</td>\n",
       "      <td>15643846</td>\n",
       "    </tr>\n",
       "    <tr>\n",
       "      <th>7</th>\n",
       "      <td>Footwear &amp; Shoes</td>\n",
       "      <td>1062176724</td>\n",
       "      <td>41522</td>\n",
       "      <td>446</td>\n",
       "      <td>2646</td>\n",
       "      <td>15575209</td>\n",
       "    </tr>\n",
       "    <tr>\n",
       "      <th>8</th>\n",
       "      <td>Furniture</td>\n",
       "      <td>352982113</td>\n",
       "      <td>12241</td>\n",
       "      <td>146</td>\n",
       "      <td>889</td>\n",
       "      <td>5440051</td>\n",
       "    </tr>\n",
       "    <tr>\n",
       "      <th>9</th>\n",
       "      <td>Games &amp; Toys</td>\n",
       "      <td>387164203</td>\n",
       "      <td>13900</td>\n",
       "      <td>159</td>\n",
       "      <td>940</td>\n",
       "      <td>4331694</td>\n",
       "    </tr>\n",
       "    <tr>\n",
       "      <th>14</th>\n",
       "      <td>Sports Products</td>\n",
       "      <td>357064577</td>\n",
       "      <td>12519</td>\n",
       "      <td>122</td>\n",
       "      <td>870</td>\n",
       "      <td>3635933</td>\n",
       "    </tr>\n",
       "    <tr>\n",
       "      <th>1</th>\n",
       "      <td>Beauty</td>\n",
       "      <td>423273363</td>\n",
       "      <td>15153</td>\n",
       "      <td>180</td>\n",
       "      <td>1086</td>\n",
       "      <td>1959484</td>\n",
       "    </tr>\n",
       "    <tr>\n",
       "      <th>0</th>\n",
       "      <td>Auto</td>\n",
       "      <td>97249522</td>\n",
       "      <td>3383</td>\n",
       "      <td>43</td>\n",
       "      <td>239</td>\n",
       "      <td>1958609</td>\n",
       "    </tr>\n",
       "    <tr>\n",
       "      <th>15</th>\n",
       "      <td>Stationery</td>\n",
       "      <td>112345539</td>\n",
       "      <td>3734</td>\n",
       "      <td>47</td>\n",
       "      <td>281</td>\n",
       "      <td>1676051</td>\n",
       "    </tr>\n",
       "    <tr>\n",
       "      <th>11</th>\n",
       "      <td>Household items</td>\n",
       "      <td>521594495</td>\n",
       "      <td>16368</td>\n",
       "      <td>225</td>\n",
       "      <td>1331</td>\n",
       "      <td>1569337</td>\n",
       "    </tr>\n",
       "    <tr>\n",
       "      <th>16</th>\n",
       "      <td>Tupperware</td>\n",
       "      <td>72222030</td>\n",
       "      <td>2585</td>\n",
       "      <td>27</td>\n",
       "      <td>166</td>\n",
       "      <td>1155642</td>\n",
       "    </tr>\n",
       "    <tr>\n",
       "      <th>2</th>\n",
       "      <td>Books</td>\n",
       "      <td>103301701</td>\n",
       "      <td>3648</td>\n",
       "      <td>54</td>\n",
       "      <td>245</td>\n",
       "      <td>1061478</td>\n",
       "    </tr>\n",
       "    <tr>\n",
       "      <th>4</th>\n",
       "      <td>Decor</td>\n",
       "      <td>96289734</td>\n",
       "      <td>3434</td>\n",
       "      <td>47</td>\n",
       "      <td>235</td>\n",
       "      <td>730360</td>\n",
       "    </tr>\n",
       "    <tr>\n",
       "      <th>13</th>\n",
       "      <td>Pet Care</td>\n",
       "      <td>212614991</td>\n",
       "      <td>7517</td>\n",
       "      <td>91</td>\n",
       "      <td>536</td>\n",
       "      <td>482277</td>\n",
       "    </tr>\n",
       "    <tr>\n",
       "      <th>10</th>\n",
       "      <td>Hand &amp; Power Tools</td>\n",
       "      <td>26073389</td>\n",
       "      <td>916</td>\n",
       "      <td>14</td>\n",
       "      <td>80</td>\n",
       "      <td>405618</td>\n",
       "    </tr>\n",
       "    <tr>\n",
       "      <th>17</th>\n",
       "      <td>Veterinary</td>\n",
       "      <td>81234081</td>\n",
       "      <td>2692</td>\n",
       "      <td>47</td>\n",
       "      <td>206</td>\n",
       "      <td>112702</td>\n",
       "    </tr>\n",
       "    <tr>\n",
       "      <th>12</th>\n",
       "      <td>Office</td>\n",
       "      <td>113352752</td>\n",
       "      <td>3919</td>\n",
       "      <td>50</td>\n",
       "      <td>261</td>\n",
       "      <td>81936</td>\n",
       "    </tr>\n",
       "  </tbody>\n",
       "</table>\n",
       "</div>"
      ],
      "text/plain": [
       "         Product_Category          ID    Age  Marital_Status  Orders    Amount\n",
       "6                    Food  2497508691  86653             990    6110  33933883\n",
       "3      Clothing & Apparel  2663028862  93745            1120    6634  16495019\n",
       "5   Electronics & Gadgets  2093279814  74048             913    5226  15643846\n",
       "7        Footwear & Shoes  1062176724  41522             446    2646  15575209\n",
       "8               Furniture   352982113  12241             146     889   5440051\n",
       "9            Games & Toys   387164203  13900             159     940   4331694\n",
       "14        Sports Products   357064577  12519             122     870   3635933\n",
       "1                  Beauty   423273363  15153             180    1086   1959484\n",
       "0                    Auto    97249522   3383              43     239   1958609\n",
       "15             Stationery   112345539   3734              47     281   1676051\n",
       "11        Household items   521594495  16368             225    1331   1569337\n",
       "16             Tupperware    72222030   2585              27     166   1155642\n",
       "2                   Books   103301701   3648              54     245   1061478\n",
       "4                   Decor    96289734   3434              47     235    730360\n",
       "13               Pet Care   212614991   7517              91     536    482277\n",
       "10     Hand & Power Tools    26073389    916              14      80    405618\n",
       "17             Veterinary    81234081   2692              47     206    112702\n",
       "12                 Office   113352752   3919              50     261     81936"
      ]
     },
     "execution_count": 214,
     "metadata": {},
     "output_type": "execute_result"
    }
   ],
   "source": [
    "procat_sale"
   ]
  },
  {
   "cell_type": "code",
   "execution_count": 215,
   "id": "a4d085bd",
   "metadata": {},
   "outputs": [
    {
     "data": {
      "text/plain": [
       "<AxesSubplot:xlabel='Product_Category', ylabel='Amount'>"
      ]
     },
     "execution_count": 215,
     "metadata": {},
     "output_type": "execute_result"
    },
    {
     "data": {
      "image/png": "[encoded data removed]",
      "text/plain": [
       "<Figure size 1800x504 with 1 Axes>"
      ]
     },
     "metadata": {},
     "output_type": "display_data"
    }
   ],
   "source": [
    "sns.barplot(x='Product_Category',y='Amount',data=procat_sale)"
   ]
  },
  {
   "cell_type": "markdown",
   "id": "6bbcbc40",
   "metadata": {},
   "source": [
    "From the above graph the product category which totalled up more amount is the food category products"
   ]
  },
  {
   "cell_type": "code",
   "execution_count": 252,
   "id": "36de0588",
   "metadata": {},
   "outputs": [],
   "source": [
    "prod_sale=df.groupby('Product_ID',as_index=False)['Orders'].sum().sort_values('Orders',ascending=False).head(10)"
   ]
  },
  {
   "cell_type": "code",
   "execution_count": 253,
   "id": "e7ce90cf",
   "metadata": {},
   "outputs": [
    {
     "data": {
      "text/html": [
       "<div>\n",
       "<style scoped>\n",
       "    .dataframe tbody tr th:only-of-type {\n",
       "        vertical-align: middle;\n",
       "    }\n",
       "\n",
       "    .dataframe tbody tr th {\n",
       "        vertical-align: top;\n",
       "    }\n",
       "\n",
       "    .dataframe thead th {\n",
       "        text-align: right;\n",
       "    }\n",
       "</style>\n",
       "<table border=\"1\" class=\"dataframe\">\n",
       "  <thead>\n",
       "    <tr style=\"text-align: right;\">\n",
       "      <th></th>\n",
       "      <th>Product_ID</th>\n",
       "      <th>Orders</th>\n",
       "    </tr>\n",
       "  </thead>\n",
       "  <tbody>\n",
       "    <tr>\n",
       "      <th>1679</th>\n",
       "      <td>P00265242</td>\n",
       "      <td>127</td>\n",
       "    </tr>\n",
       "    <tr>\n",
       "      <th>644</th>\n",
       "      <td>P00110942</td>\n",
       "      <td>116</td>\n",
       "    </tr>\n",
       "    <tr>\n",
       "      <th>1504</th>\n",
       "      <td>P00237542</td>\n",
       "      <td>91</td>\n",
       "    </tr>\n",
       "    <tr>\n",
       "      <th>1146</th>\n",
       "      <td>P00184942</td>\n",
       "      <td>82</td>\n",
       "    </tr>\n",
       "    <tr>\n",
       "      <th>679</th>\n",
       "      <td>P00114942</td>\n",
       "      <td>79</td>\n",
       "    </tr>\n",
       "    <tr>\n",
       "      <th>171</th>\n",
       "      <td>P00025442</td>\n",
       "      <td>79</td>\n",
       "    </tr>\n",
       "    <tr>\n",
       "      <th>708</th>\n",
       "      <td>P00117942</td>\n",
       "      <td>76</td>\n",
       "    </tr>\n",
       "    <tr>\n",
       "      <th>888</th>\n",
       "      <td>P00145042</td>\n",
       "      <td>76</td>\n",
       "    </tr>\n",
       "    <tr>\n",
       "      <th>298</th>\n",
       "      <td>P00044442</td>\n",
       "      <td>75</td>\n",
       "    </tr>\n",
       "    <tr>\n",
       "      <th>643</th>\n",
       "      <td>P00110842</td>\n",
       "      <td>74</td>\n",
       "    </tr>\n",
       "  </tbody>\n",
       "</table>\n",
       "</div>"
      ],
      "text/plain": [
       "     Product_ID  Orders\n",
       "1679  P00265242     127\n",
       "644   P00110942     116\n",
       "1504  P00237542      91\n",
       "1146  P00184942      82\n",
       "679   P00114942      79\n",
       "171   P00025442      79\n",
       "708   P00117942      76\n",
       "888   P00145042      76\n",
       "298   P00044442      75\n",
       "643   P00110842      74"
      ]
     },
     "execution_count": 253,
     "metadata": {},
     "output_type": "execute_result"
    }
   ],
   "source": [
    "prod_sale"
   ]
  },
  {
   "cell_type": "code",
   "execution_count": 254,
   "id": "6b5c9789",
   "metadata": {},
   "outputs": [
    {
     "data": {
      "text/plain": [
       "<AxesSubplot:xlabel='Product_ID', ylabel='Orders'>"
      ]
     },
     "execution_count": 254,
     "metadata": {},
     "output_type": "execute_result"
    },
    {
     "data": {
      "image/png": "[encoded data removed]",
      "text/plain": [
       "<Figure size 1800x504 with 1 Axes>"
      ]
     },
     "metadata": {},
     "output_type": "display_data"
    }
   ],
   "source": [
    "sns.barplot(x='Product_ID',y='Orders',data=prod_sale)"
   ]
  },
  {
   "cell_type": "code",
   "execution_count": 251,
   "id": "c4aae157",
   "metadata": {},
   "outputs": [
    {
     "data": {
      "text/plain": [
       "<AxesSubplot:xlabel='Product_ID'>"
      ]
     },
     "execution_count": 251,
     "metadata": {},
     "output_type": "execute_result"
    },
    {
     "data": {
      "image/png": "[encoded data removed]",
      "text/plain": [
       "<Figure size 1800x504 with 1 Axes>"
      ]
     },
     "metadata": {},
     "output_type": "display_data"
    }
   ],
   "source": [
    "df.groupby('Product_ID')['Orders'].sum().nlargest(10).sort_values(ascending=False).plot(kind='bar')"
   ]
  },
  {
   "cell_type": "markdown",
   "id": "be5da365",
   "metadata": {},
   "source": [
    "From the above graph it is clear that the productid P00265242 has more number of orders"
   ]
  },
  {
   "cell_type": "markdown",
   "id": "fadcf1a1",
   "metadata": {},
   "source": [
    "# CONCLUSION"
   ]
  },
  {
   "cell_type": "markdown",
   "id": "ae38ce96",
   "metadata": {},
   "source": [
    "By the sales data we conclude that most of the buyers falls under female and married category who are under age group 26-35 ,mostly residing at Uttar Pradesh,Maharashtra and Karnataka working in IT sector,Healthcare and Aviation maximum spending their money on Food,Clothing and Apparel as well as Electronics and Gadgets .The most sold Product ID is P00265242"
   ]
  },
  {
   "cell_type": "code",
   "execution_count": null,
   "id": "7923f10d",
   "metadata": {},
   "outputs": [],
   "source": []
  }
 ],
 "metadata": {
  "kernelspec": {
   "display_name": "Python 3 (ipykernel)",
   "language": "python",
   "name": "python3"
  },
  "language_info": {
   "codemirror_mode": {
    "name": "ipython",
    "version": 3
   },
   "file_extension": ".py",
   "mimetype": "text/x-python",
   "name": "python",
   "nbconvert_exporter": "python",
   "pygments_lexer": "ipython3",
   "version": "3.9.12"
  }
 },
 "nbformat": 4,
 "nbformat_minor": 5
}
